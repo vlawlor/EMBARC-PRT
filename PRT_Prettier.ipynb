{
 "cells": [
  {
   "cell_type": "markdown",
   "metadata": {},
   "source": [
    "## Quick Links"
   ]
  },
  {
   "cell_type": "markdown",
   "metadata": {},
   "source": [
    "[Cleaning Data](#Cleaning-Data)  \n",
    "&nbsp;&nbsp;&nbsp;&nbsp;&nbsp;&nbsp;[Notes](#Notes:)  \n",
    "[Standard Analysis](#Standard-Analysis)  \n",
    "&nbsp;&nbsp;&nbsp;&nbsp;&nbsp;&nbsp;[Reward Leaning](#Reward-Learning)  \n",
    "&nbsp;&nbsp;&nbsp;&nbsp;&nbsp;&nbsp;[Discriminability](#Discriminability)  \n",
    "&nbsp;&nbsp;&nbsp;&nbsp;&nbsp;&nbsp;[Accuracy](#Accuracy)  \n",
    "&nbsp;&nbsp;&nbsp;&nbsp;&nbsp;&nbsp;[Reaction Time](#Reaction-Time)   \n",
    "[HDDM Analysis](#HDDM-Analysis)  \n",
    "&nbsp;&nbsp;&nbsp;&nbsp;&nbsp;&nbsp;[Within model](#Within-model)  \n",
    "&nbsp;&nbsp;&nbsp;&nbsp;&nbsp;&nbsp;[Between model](#Between-model)  "
   ]
  },
  {
   "cell_type": "code",
   "execution_count": 1,
   "metadata": {
    "collapsed": false
   },
   "outputs": [
    {
     "name": "stderr",
     "output_type": "stream",
     "text": [
      "/Users/mlm2/anaconda/lib/python3.5/site-packages/IPython/parallel.py:13: ShimWarning: The `IPython.parallel` package has been deprecated. You should import from ipyparallel instead.\n",
      "  \"You should import from ipyparallel instead.\", ShimWarning)\n",
      "/Users/mlm2/anaconda/lib/python3.5/site-packages/rpy2/rinterface/__init__.py:186: RRuntimeWarning: Loading required package: estimability\n",
      "\n",
      "  warnings.warn(x, RRuntimeWarning)\n",
      "/Users/mlm2/anaconda/lib/python3.5/site-packages/rpy2/rinterface/__init__.py:186: RRuntimeWarning: Loading required package: lme4\n",
      "\n",
      "  warnings.warn(x, RRuntimeWarning)\n",
      "/Users/mlm2/anaconda/lib/python3.5/site-packages/rpy2/rinterface/__init__.py:186: RRuntimeWarning: Loading required package: Matrix\n",
      "\n",
      "  warnings.warn(x, RRuntimeWarning)\n",
      "/Users/mlm2/anaconda/lib/python3.5/site-packages/rpy2/rinterface/__init__.py:186: RRuntimeWarning: Loading required package: reshape2\n",
      "\n",
      "  warnings.warn(x, RRuntimeWarning)\n",
      "/Users/mlm2/anaconda/lib/python3.5/site-packages/rpy2/rinterface/__init__.py:186: RRuntimeWarning: ************\n",
      "Welcome to afex. Important changes in the current version:\n",
      "\n",
      "  warnings.warn(x, RRuntimeWarning)\n",
      "/Users/mlm2/anaconda/lib/python3.5/site-packages/rpy2/rinterface/__init__.py:186: RRuntimeWarning: - Functions for ANOVAs have been renamed to: aov_car(), aov_ez(), and aov_4().\n",
      "- ANOVA functions return an object of class 'afex_aov' as default, see: ?aov_car\n",
      "- 'afex_aov' objects can be passed to lsmeans for contrasts and follow-up tests.\n",
      "- Reset previous (faster) behavior via: afex_options(return_aov='nice')\n",
      "- Many more arguments can now be set globally via options, see: afex_options()\n",
      "************\n",
      "\n",
      "  warnings.warn(x, RRuntimeWarning)\n"
     ]
    },
    {
     "data": {
      "text/plain": [
       "array(['afex', 'reshape2', 'lme4', 'Matrix', 'lsmeans', 'estimability',\n",
       "       'tools', 'stats', 'graphics', 'grDevices', 'utils', 'datasets',\n",
       "       'methods', 'base'], \n",
       "      dtype='<U12')"
      ]
     },
     "execution_count": 1,
     "metadata": {},
     "output_type": "execute_result"
    }
   ],
   "source": [
    "import datetime, mmap,os,re, sys, decimal, hddm\n",
    "import numpy as np \n",
    "import pandas as pd\n",
    "import seaborn as sns \n",
    "import matplotlib.pyplot as plt\n",
    "import scipy as sp\n",
    "from patsy import dmatrix\n",
    "% matplotlib inline \n",
    "% reload_ext rpy2.ipython\n",
    "%R library(lsmeans)\n",
    "%R library(afex)"
   ]
  },
  {
   "cell_type": "markdown",
   "metadata": {},
   "source": [
    "# Cleaning Data"
   ]
  },
  {
   "cell_type": "markdown",
   "metadata": {},
   "source": [
    "Results in two csvs: **Data/prt_standard_first_session.csv** (which contains all of the \"standard\" data) & **Data/prt_all_trials_first_session.csv** (which contains all of the trial level data, merged with the relevant \"standard\" data).  \n",
    "  \n",
    "Can skip this section if you already have these files."
   ]
  },
  {
   "cell_type": "code",
   "execution_count": 13,
   "metadata": {
    "collapsed": false
   },
   "outputs": [
    {
     "data": {
      "text/plain": [
       "'/Users/mlm2/Work/Expts/EMBARC'"
      ]
     },
     "execution_count": 13,
     "metadata": {},
     "output_type": "execute_result"
    }
   ],
   "source": [
    "pwd"
   ]
  },
  {
   "cell_type": "code",
   "execution_count": 14,
   "metadata": {
    "collapsed": false
   },
   "outputs": [
    {
     "name": "stdout",
     "output_type": "stream",
     "text": [
      "\u001b[34mAPS\u001b[m\u001b[m/           \u001b[34mData\u001b[m\u001b[m/          \u001b[34mOld_Notebooks\u001b[m\u001b[m/ \u001b[34mPapers\u001b[m\u001b[m/\r\n",
      "\u001b[34mAnalysis\u001b[m\u001b[m/      \u001b[34mMisc\u001b[m\u001b[m/          PRT.ipynb\r\n"
     ]
    }
   ],
   "source": [
    "ls"
   ]
  },
  {
   "cell_type": "code",
   "execution_count": 15,
   "metadata": {
    "collapsed": true
   },
   "outputs": [],
   "source": [
    "uname = !whoami\n",
    "uname = uname[0]\n",
    "path2analysis = '/Users/' + uname + '/Work/Expts/EMBARC/' # also where git repo lives\n",
    "today = datetime.datetime.today().strftime(\"%m_%d_%Y\")"
   ]
  },
  {
   "cell_type": "code",
   "execution_count": 16,
   "metadata": {
    "collapsed": false
   },
   "outputs": [
    {
     "name": "stdout",
     "output_type": "stream",
     "text": [
      "mkdir: /Users/mlm2/Work/Expts/EMBARC/Data/PRT/Massachusetts/MGTemp/: File exists\n",
      "mkdir: /Users/mlm2/Work/Expts/EMBARC/Data/PRT/Michigan/UMTemp/: File exists\n",
      "mkdir: /Users/mlm2/Work/Expts/EMBARC/Data/PRT/New_York/CUTemp/: File exists\n",
      "usage: cp [-R [-H | -L | -P]] [-fi | -n] [-apvX] source_file target_file\n",
      "       cp [-R [-H | -L | -P]] [-fi | -n] [-apvX] source_file ... target_directory\n",
      "mkdir: /Users/mlm2/Work/Expts/EMBARC/Data/PRT/Texas/TXTemp/: File exists\n"
     ]
    }
   ],
   "source": [
    "for val in [('Massachusetts','MG'),('Michigan','UM'),('New_York','CU'),('Texas','TX')]:\n",
    "    state, abrev = val\n",
    "    base_dir = '/Users/' + uname + '/Work/Expts/EMBARC/Data/PRT/' + state + '/'\n",
    "    temp_dir = base_dir + abrev + 'Temp/'\n",
    "    old_files = base_dir + 'embarc_CU_' + abrev + '0*/done/sigdet_output*out'\n",
    "    flist = !ls {old_files}\n",
    "    \n",
    "    !mkdir {temp_dir}\n",
    "    \n",
    "    for old_fname in flist:\n",
    "        if abrev != 'CU':\n",
    "            sub = old_fname.split('_')[2]\n",
    "        else:\n",
    "            sub = old_fname.split('_')[3]\n",
    "        new_file = sub + '_out.txt'\n",
    "        new_fname = temp_dir + new_file\n",
    "        \n",
    "        !cp {old_fname} {new_fname} # Done this way you don't get error messages when there's no old file"
   ]
  },
  {
   "cell_type": "code",
   "execution_count": 18,
   "metadata": {
    "collapsed": true
   },
   "outputs": [],
   "source": [
    "def SigDetParse(fname):\n",
    "    '''Open the file, use regex to pull out key vars, output a clean df.'''\n",
    "    \n",
    "    df = []\n",
    "    d = {}\n",
    "    ct = 0\n",
    "    \n",
    "    # Begin reading in data from the line including 'reward_due', as that's unlikely to occur anywhere earlier\n",
    "    with open(fname) as f:\n",
    "        for line in f:\n",
    "            if 'reward_due' in line:\n",
    "                for line in f:\n",
    "                    d[ct] = {'trial':line.split('\\t')[0],\n",
    "                             'length':line.split('\\t')[1],\n",
    "                             'time':line.split('\\t')[2], # tempting to change to RT but keep same for backwards compat\n",
    "                             'key_press':line.split('\\t')[3],\n",
    "                             'correct':line.split('\\t')[4],\n",
    "                             'did_reward':line.split('\\t')[5],\n",
    "                             'reward_due':line.split('\\t')[6],\n",
    "                             'rich_due':line.split('\\t')[7],\n",
    "                             'lean_due':line.split('\\t')[8],\n",
    "                             'outlier':line.split('\\t')[9].strip('\\n')}\n",
    "                    ct = ct + 1\n",
    "    df = pd.DataFrame.from_dict(d,orient='index')\n",
    "    \n",
    "\n",
    "    for val in [('rich_key','Rich key:'),('lean_key','Lean key:'), ('subject','Subject ID:'), ('date','Date:'), \n",
    "                ('bias','Bias:'), ('rich_stim','Rich stimulus:'), ('lean_stim','Lean stimulus:')]:\n",
    "        \n",
    "        var_name, pattern = val\n",
    "        df[var_name] = np.nan # Need some default values b/c some subjects have missing data        \n",
    "\n",
    "        if var_name != 'date':\n",
    "            var_def = re.compile(pattern + '[\\s]+([\\w]+)')\n",
    "        else:\n",
    "            var_def = re.compile(pattern + '[\\s]+([\\d]+/[\\d]+/[\\d]+)')\n",
    "        \n",
    "        with open(fname) as f:\n",
    "            for line in f:\n",
    "                var_match = var_def.search(line)\n",
    "                if var_match:\n",
    "                    result = var_match.group(1)\n",
    "                    #checks if the subject ID is weird, prints it, and fixes it. For this data, all 3 digit sub ids\n",
    "                    #are fixed by adding a 0 to the beginning. \n",
    "                    if var_name =='subject' and len(result) !=4:\n",
    "                        print ('Check sub ID: ' + fname)\n",
    "                        if len(result) == 3:\n",
    "                            df[var_name]='0'+ result\n",
    "                        if len(result) == 1:\n",
    "                            df[var_name] ='000' + result\n",
    "                    else:\n",
    "                        df[var_name] = result\n",
    "\n",
    "    return df"
   ]
  },
  {
   "cell_type": "code",
   "execution_count": 19,
   "metadata": {
    "collapsed": false
   },
   "outputs": [
    {
     "name": "stdout",
     "output_type": "stream",
     "text": [
      "Check sub ID: /Users/mlm2/Work/Expts/EMBARC/Data/PRT/Massachusetts/MGTemp/MG0020MGBP1R1_out.txt\n",
      "Check sub ID: /Users/mlm2/Work/Expts/EMBARC/Data/PRT/Massachusetts/MGTemp/MG0025MGBP2R1_out.txt\n",
      "Check sub ID: /Users/mlm2/Work/Expts/EMBARC/Data/PRT/Massachusetts/MGTemp/MG0027MGBP1R1_out.txt\n",
      "Check sub ID: /Users/mlm2/Work/Expts/EMBARC/Data/PRT/Massachusetts/MGTemp/MG0039MGBP2R1_out.txt\n",
      "Empty file: /Users/mlm2/Work/Expts/EMBARC/Data/PRT/Massachusetts/MGTemp/MG0270MGBP1R1_out.txt\n",
      "Check sub ID: /Users/mlm2/Work/Expts/EMBARC/Data/PRT/Michigan/UMTemp/UM0001UMBP1R1_out.txt\n",
      "Empty file: /Users/mlm2/Work/Expts/EMBARC/Data/PRT/Texas/TXTemp/TX0038MGBP3R1_out.txt\n",
      "Empty file: /Users/mlm2/Work/Expts/EMBARC/Data/PRT/Texas/TXTemp/TX0198TXBP2R1_out.txt\n"
     ]
    }
   ],
   "source": [
    "# Now you can just iterate over the files in each dir and use the code above to read each file into a ginorm df\n",
    "today = datetime.datetime.today().strftime(\"%m_%d_%Y\")\n",
    "\n",
    "dfs = []\n",
    "base_dir = '/Users/' + uname + '/Work/Expts/EMBARC/Data/PRT/'\n",
    "for val in [('Massachusetts','MG'),('Michigan','UM'),('New_York','CU'),('Texas','TX')]:\n",
    "    state, abrev = val\n",
    "    state_dir = base_dir + state + '/' + abrev + 'Temp'\n",
    "    flist = !ls {state_dir}\n",
    "    \n",
    "    for fname in flist:\n",
    "        curr_path = state_dir + '/' + fname \n",
    "        statinfo = os.stat(curr_path) # checking for empty files b/c I found one . . .\n",
    "        if statinfo.st_size == 0:\n",
    "            #to make it compatible with 2 & 3\n",
    "            print ('Empty file: '+ curr_path)\n",
    "        else:\n",
    "            df = SigDetParse(curr_path)\n",
    "            df['site'] = abrev\n",
    "            df['ProjectSpecificID'] = df['site'] + df['subject']\n",
    "            dfs.append(df)\n",
    "out = pd.concat(dfs)\n",
    "out = out[['ProjectSpecificID','site','subject','date','bias','rich_stim','lean_stim','rich_key','lean_key',\n",
    "           'trial','length','time','key_press','correct','did_reward','reward_due','rich_due','lean_due','outlier']]"
   ]
  },
  {
   "cell_type": "code",
   "execution_count": 20,
   "metadata": {
    "collapsed": true
   },
   "outputs": [],
   "source": [
    "# adding in the blocks\n",
    "out['trial'] = pd.to_numeric(out['trial'])\n",
    "out.loc[out['trial'] <= 100, 'block'] = 1\n",
    "out.loc[out['trial'] > 100, 'block'] = 2"
   ]
  },
  {
   "cell_type": "code",
   "execution_count": 21,
   "metadata": {
    "collapsed": false
   },
   "outputs": [
    {
     "data": {
      "text/plain": [
       "array(['0001', '0002', '0003', '0004', '0005', '0006', '0007', '0008',\n",
       "       '0018', '0020', '0021', '0025', '0026', '0027', '0028', '0030',\n",
       "       '0032', '0039', '0040', '0051', '0060', '0064', '0066', '0069',\n",
       "       '0070', '0074', '0076', '0081', '0086', '0101', '0104', '0106',\n",
       "       '0112', '0116', '0117', '0120', '0125', '0126', '0135', '0137',\n",
       "       '0138', '0142', '0152', '0155', '0157', '0158', '0161', '0164',\n",
       "       '0168', '0172', '0180', '0182', '0185', '0187', '0198', '0202',\n",
       "       '0206', '0207', '0209', '0213', '0214', '0218', '0220', '0222',\n",
       "       '0228', '0230', '0231', '0238', '0239', '0242', '0243', '0246',\n",
       "       '0248', '0251', '0252', '0253', '0256', '0257', '0259', '0261',\n",
       "       '0269', '0270', '0009', '0011', '0012', '0014', '0015', '0016',\n",
       "       '0017', '0023', '0024', '0029', '0031', '0033', '0034', '0035',\n",
       "       '0036', '0037', '0038', '0042', '0046', '0047', '0048', '0049',\n",
       "       '0050', '0052', '0056', '0058', '0065', '0073', '0077', '0078',\n",
       "       '0079', '0080', '0082', '0083', '0085', '0088', '0089', '0090',\n",
       "       '0091', '0092', '0093', '0096', '0097', '0100', '0102', '0103',\n",
       "       '0107', '0108', '0110', '0111', '0113', '0114', '0115', '0118',\n",
       "       '0119', '0121', '0010', '0013', '0019', '0022', '0041', '0053',\n",
       "       '0055', '0057', '0059', '0061', '0062', '0063', '0067', '0068',\n",
       "       '0071', '0072', '0075', '0084', '0087', '0094', '0095', '0099',\n",
       "       '0105', '0127', '0128', '0129', '0130', '0131', '0132', '0133',\n",
       "       '0134', '0043', '0045', '0122', '0123', '0124', '0136', '0139',\n",
       "       '0140', '0141', '0145', '0147', '0148', '0149', '0151', '0153',\n",
       "       '0156', '0159', '0162', '0165', '0169', '0173', '0174', '0175',\n",
       "       '0177', '0178', '0179', '0184', '0188', '0189', '0193', '0194',\n",
       "       '0195', '0204'], dtype=object)"
      ]
     },
     "execution_count": 21,
     "metadata": {},
     "output_type": "execute_result"
    }
   ],
   "source": [
    "# Check that change fixed the wacky numbers, looks like it did\n",
    "out.subject.unique()"
   ]
  },
  {
   "cell_type": "code",
   "execution_count": 23,
   "metadata": {
    "collapsed": false
   },
   "outputs": [
    {
     "name": "stderr",
     "output_type": "stream",
     "text": [
      "/Users/mlm2/anaconda/lib/python3.5/site-packages/IPython/core/interactiveshell.py:2717: DtypeWarning: Columns (3,104,109,113,117,118,119,122,123,127,133,134,135,136,138,141,142,219,221,227,229,231,232,233,234,235,236,237,238,239,240,241,242,243,244,250,251,252,253,258,260,262,264,266,268,276,280,283,285,287,290,293,307,308,309,310,311,312,313,314,315,316,317,318,319,320,321,322,323,324,325,326,327,328,329,330,331,332,333,334,336,338,369,370,371,372,373,374,375,376,377,378,379,380,381,382,383,384,385,386,392,396,408,410,411,417,418,419,421,422,423,460,462,464,466,468,470,472,474,476,478,480,573,574,575,576,577,578,579,580,581,582,583,584,585,586,587,590,800,801,812,813,814,823,861) have mixed types. Specify dtype option on import or set low_memory=False.\n",
      "  interactivity=interactivity, compiler=compiler, result=result)\n"
     ]
    }
   ],
   "source": [
    "df_group = pd.read_csv('Data/groups.csv',encoding=\"latin-1\")\n",
    "df_compact = []\n",
    "df_compact = df_group[['ProjectSpecificID', 'feasibility', 'shaps_total_dichotomous', \n",
    "                       'shaps_total_continuous', 'severity1', 'conmed_16', 'conmed_11', 'conmed_06', 'conmed_01', 'partic_age', 'partic_gender', 'masq2_29', 'hamd_09']]"
   ]
  },
  {
   "cell_type": "code",
   "execution_count": 24,
   "metadata": {
    "collapsed": true
   },
   "outputs": [],
   "source": [
    "# for all states extract the standard data and put into one file\n",
    "\n",
    "df_stand = pd.DataFrame()\n",
    "for state in ['Massachusetts', 'Michigan', 'New_York', 'Texas']:\n",
    "    df_state = pd.DataFrame()\n",
    "    statesum = '/Users/'+ uname +'/Work/Expts/EMBARC/Data/PRT/'+ state +'/Summaries/embarc*/*txt'\n",
    "    folders  = !ls -d {statesum}\n",
    "    \n",
    "    for filename in folders:\n",
    "        if filename != 'embarc_MG_subj_PRTsess_.txt' and filename != 'embarc_NY_subj_PRTsess_.txt'and filename != 'embarc_NY_subj****************_PRTsess2_short.txt' and filename != 'embarc_TX_subj_PRTsess_.txt' and filename != 'embarc_UM_subj_PRTsess_.txt' and filename !='Note.txt':\n",
    "            x = pd.read_csv(filename, delim_whitespace = True, dtype={'subject':str, 'PRT_QC_Status':str, 'session':str})\n",
    "            if 'subject' in x.columns:\n",
    "                x.subject = x.subject.str.zfill(4) #fixing weird IDs\n",
    "                df_stand = pd.concat([x, df_stand])\n",
    "                df_state = pd.concat([x, df_state])\n",
    "        \n",
    "    df_state['ProjectSpecificID'] = df_state['site'] + df_state['subject'] \n",
    "    df_state = df_state[pd.notnull(df_state['subject'])]\n",
    "    df_state = df_state[df_state.subject != '****************'] #we don't care about this person\n",
    "    df_state.loc[df_state['site'] == 'NY', 'site'] = 'CU'# it's NY in this file\n",
    "    df_state.to_csv('standard_' + state + '_' + today + '.csv')\n",
    "\n",
    "df_stand = df_stand[df_stand.subject != '****************']\n",
    "df_stand = df_stand[pd.notnull(df_stand['subject'])]\n",
    "df_stand.loc[df_stand['site'] == 'NY', 'site'] = 'CU'\n",
    "df_stand['ProjectSpecificID'] = df_stand['site'] + df_stand['subject']"
   ]
  },
  {
   "cell_type": "markdown",
   "metadata": {},
   "source": [
    "Outputs the final \"standard\" data file"
   ]
  },
  {
   "cell_type": "code",
   "execution_count": 25,
   "metadata": {
    "collapsed": false
   },
   "outputs": [
    {
     "name": "stderr",
     "output_type": "stream",
     "text": [
      "/Users/mlm2/anaconda/lib/python3.5/site-packages/ipykernel/__main__.py:14: SettingWithCopyWarning: \n",
      "A value is trying to be set on a copy of a slice from a DataFrame.\n",
      "Try using .loc[row_indexer,col_indexer] = value instead\n",
      "\n",
      "See the caveats in the documentation: http://pandas.pydata.org/pandas-docs/stable/indexing.html#indexing-view-versus-copy\n"
     ]
    }
   ],
   "source": [
    "df_group_comp = df_compact[pd.notnull(df_compact['feasibility'])] # only care where there is a val for feasibility\n",
    "df_group_comp = df_group_comp.loc[df_group_comp['feasibility'] != 2] # don't care if it's 2\n",
    "   \n",
    "df_group_comp.loc[df_group_comp['feasibility'] == 1, 'feasibility'] = 'MDD'\n",
    "df_group_comp.loc[df_group_comp['feasibility'] == 3, 'feasibility'] = 'MDD'\n",
    "df_group_comp.loc[df_group_comp['feasibility'] == 5, 'feasibility'] = 'MDD'\n",
    "df_group_comp.loc[df_group_comp['feasibility'] == 4, 'feasibility'] = 'CTL'# make the feasibility clearer (and strs for HDDM)\n",
    "    \n",
    "df_stand_clean = df_stand.merge(df_group_comp, how='outer')# merge on the compact groups data\n",
    "df_stand_clean.loc[df_stand_clean['ProjectSpecificID'] == 'MG0020', 'session'] = '1' #recode this presumed typo\n",
    "df_stand_clean = df_stand_clean.loc[df_stand_clean['PRT_QC_Status'] == '1']\n",
    "df_stand_clean = df_stand_clean[pd.notnull(df_stand_clean['feasibility'])]\n",
    "df_firstsess = df_stand_clean.loc[df_stand_clean['session'] == '1']\n",
    "df_firstsess['ID_date'] = df_firstsess['ProjectSpecificID'] + df_firstsess['date1']\n",
    "df_firstsess = df_firstsess[df_firstsess.ID_date != 'MG002010_24_2012'] #for some reason the second date was listed first\n",
    "df_firstsess = df_firstsess.drop_duplicates('ProjectSpecificID') # takes the first session listed for each participant\n",
    "                                                               # we should try playing around with this for MA since our\n",
    "                                                               # descriptives are slightly different from Christians\n",
    "df_firstsess = df_firstsess.loc[df_firstsess['ProjectSpecificID'] != 'CU0019'] \n",
    "df_firstsess = df_firstsess.loc[df_firstsess['ProjectSpecificID'] != 'UM0102']\n",
    "df_firstsess = df_firstsess.loc[df_firstsess['ProjectSpecificID'] != 'MG0026']\n",
    "df_firstsess = df_firstsess.loc[df_firstsess['ProjectSpecificID'] != 'CU0047'] # based on Christian's data, remove \n",
    "                                                                               # these subjects \n",
    "# Comparing to Christian's list\n",
    "df_christian = pd.read_csv('/Users/mlm2/Work/Expts/EMBARC/Data/christian_included.txt', header = None)    \n",
    "christian_list = df_christian[0].astype(str)\n",
    "\n",
    "# are we missing anything?\n",
    "for subject in christian_list:\n",
    "    if subject in df_firstsess.ProjectSpecificID.unique():\n",
    "        pass\n",
    "    else:\n",
    "        print('Missing from ours: '+ subject)\n",
    "\n",
    "# do we have anything extra?\n",
    "for subject in df_firstsess.ProjectSpecificID:\n",
    "    if subject in christian_list.unique():\n",
    "        pass\n",
    "    else:\n",
    "        print('Not included in Christians: ' + subject)\n",
    "    \n",
    "#save the first session standard file\n",
    "df_firstsess.to_csv('Data/prt_standard_first_session.csv')"
   ]
  },
  {
   "cell_type": "markdown",
   "metadata": {},
   "source": [
    "Outputs the final trial-level data"
   ]
  },
  {
   "cell_type": "code",
   "execution_count": 26,
   "metadata": {
    "collapsed": false
   },
   "outputs": [
    {
     "name": "stdout",
     "output_type": "stream",
     "text": [
      "0    59008\n",
      "1      792\n",
      "Name: outlier, dtype: int64\n",
      "0    59008\n",
      "Name: outlier, dtype: int64\n"
     ]
    }
   ],
   "source": [
    "df_firstsess['date'] = df_firstsess['date1'].replace(to_replace = '_', value ='/', regex = True)\n",
    "df_firstsess.date.replace(to_replace = '_', value ='/')\n",
    "df_trial_merged = out.merge(df_firstsess, how = 'outer', on = ['ProjectSpecificID', 'date']) # FIX THE DATE FORMAT AND MERGE \n",
    "                                                                                    # ON DATE TOO\n",
    "df_trial_merged = df_trial_merged[pd.notnull(df_trial_merged['ProjectSpecificID'])]\n",
    "\n",
    "df_trial_merged = df_trial_merged[pd.notnull(df_trial_merged['feasibility'])]\n",
    "# renaming time & correct; the hddm package requires specific column names\n",
    "df_trial_merged.rename(columns={'time':'rt', 'correct': 'response', 'ProjectSpecificID': 'subj_idx'}, inplace = True)\n",
    "\n",
    "# number of outlier trials and non-outlier trials for the FIRST session\n",
    "print(df_trial_merged.outlier.value_counts())\n",
    "\n",
    "# don't include the outlier trials\n",
    "df_trial_merged = df_trial_merged[df_trial_merged.outlier == '0']\n",
    "print(df_trial_merged.outlier.value_counts())\n",
    "\n",
    "# don't include duplicates (a few people in multiple times)\n",
    "df_trial_merged = df_trial_merged.drop_duplicates()\n",
    "df_trial_merged['rt_num'] = pd.to_numeric(df_trial_merged['rt'])\n",
    "df_trial_merged['response_num'] = pd.to_numeric(df_trial_merged['response'])\n",
    "df_block1 = df_trial_merged[df_trial_merged['block'] == 1]\n",
    "df_block2 = df_trial_merged[df_trial_merged['block'] == 2]\n",
    "\n",
    "# THIS IS THE FILE TO USE FOR THE HDDM\n",
    "df_trial_merged.to_csv('Data/prt_all_trials_first_session.csv')"
   ]
  },
  {
   "cell_type": "markdown",
   "metadata": {},
   "source": [
    "## Notes:\n",
    "#### Massachusetts:\n",
    "MG0081 & MG0164 had two sessions labled '1.' Since both sessions were complete, the ones with the earlier dates were used. Christian included MG020, which was originally coded as only having a session two; this was probably a typo and I included it. After these corrections everything matched, except that Christian's list included MG0164 twice (so our n for MDDs is one less than his). \n",
    "\n",
    "Our descriptives look the same as Christian's after dropping MG0020's second session and using the one on 10/17. The way it was initially coded it was keeping the old one. \n",
    "\n",
    "#### New York: \n",
    "CU0017, CU0018, and CU0019 had two sessions labled '1.' Since both sessions were complete and had all data I just took the ones with the earlier dates. Christian also excluded CU0047, so I removed them from ours. It's unclear from the data why they were excluded. \n",
    "\n",
    "Our descriptives look the same as Christian's.\n",
    "#### Michigan:\n",
    "UM0012 & UM0017 had two sessions labled '1.' Since both sessions were complete I took the first of the two for each. UM0016 had three lines of the exact same session 1 data, so I only included the first line. Christian also excluded UM0102, so I removed them from ours. It's unclear from the data why they were excluded.\n",
    "\n",
    "Our descriptives look the same as Christian's except our MDD n is 51 and his is 52. I would guess that UM0102 was not included in the list of subIDs that were included, but was included when doing the descriptives. We should decide whether or not to keep this person. \n",
    "#### Texas:\n",
    "Everything lined up with no alterations!\n",
    "\n",
    "Our descriptives look the same as Christian's."
   ]
  },
  {
   "cell_type": "markdown",
   "metadata": {},
   "source": [
    "# Standard Analysis"
   ]
  },
  {
   "cell_type": "markdown",
   "metadata": {},
   "source": [
    "load in the csvs..."
   ]
  },
  {
   "cell_type": "code",
   "execution_count": 31,
   "metadata": {
    "collapsed": false
   },
   "outputs": [
    {
     "name": "stderr",
     "output_type": "stream",
     "text": [
      "/Users/mlm2/anaconda/lib/python3.5/site-packages/IPython/core/interactiveshell.py:2717: DtypeWarning: Columns (133,134) have mixed types. Specify dtype option on import or set low_memory=False.\n",
      "  interactivity=interactivity, compiler=compiler, result=result)\n"
     ]
    }
   ],
   "source": [
    "df_standard = pd.read_csv('Data/prt_standard_first_session.csv')\n",
    "df_trial = pd.read_csv('Data/prt_all_trials_first_session.csv')"
   ]
  },
  {
   "cell_type": "code",
   "execution_count": 32,
   "metadata": {
    "collapsed": false
   },
   "outputs": [],
   "source": [
    "# we need to trim df_trial down or else r2py will freak out...\n",
    "df_trial = df_trial[['subj_idx', 'site_x', 'trial', 'length', 'rt', 'response', 'outlier', 'block','feasibility', 'partic_age', 'partic_gender', 'shaps_total_dichotomous', 'shaps_total_continuous']]\n",
    "df_trial.to_csv('Data/prt_trial_compact.csv')"
   ]
  },
  {
   "cell_type": "markdown",
   "metadata": {},
   "source": [
    "# Participant Characteristics"
   ]
  },
  {
   "cell_type": "markdown",
   "metadata": {},
   "source": [
    "## Age"
   ]
  },
  {
   "cell_type": "code",
   "execution_count": 19,
   "metadata": {
    "collapsed": false
   },
   "outputs": [
    {
     "data": {
      "text/plain": [
       "Ttest_indResult(statistic=-0.18525781242833575, pvalue=0.85315543903493929)"
      ]
     },
     "execution_count": 19,
     "metadata": {},
     "output_type": "execute_result"
    }
   ],
   "source": [
    "sp.stats.ttest_ind(df_standard[(df_standard.feasibility == 'MDD')]['partic_age'],\n",
    "                   df_standard[(df_standard.feasibility == 'CTL')]['partic_age'])"
   ]
  },
  {
   "cell_type": "code",
   "execution_count": 20,
   "metadata": {
    "collapsed": false
   },
   "outputs": [
    {
     "data": {
      "text/plain": [
       "count    258.000000\n",
       "mean      36.806202\n",
       "std       13.285595\n",
       "min       18.000000\n",
       "25%       25.000000\n",
       "50%       33.000000\n",
       "75%       47.000000\n",
       "max       65.000000\n",
       "Name: partic_age, dtype: float64"
      ]
     },
     "execution_count": 20,
     "metadata": {},
     "output_type": "execute_result"
    }
   ],
   "source": [
    "df_standard[(df_standard.feasibility == 'MDD')]['partic_age'].describe()"
   ]
  },
  {
   "cell_type": "code",
   "execution_count": 21,
   "metadata": {
    "collapsed": false
   },
   "outputs": [
    {
     "data": {
      "text/plain": [
       "count    36.000000\n",
       "mean     37.250000\n",
       "std      14.713211\n",
       "min      18.000000\n",
       "25%      25.000000\n",
       "50%      32.500000\n",
       "75%      51.000000\n",
       "max      65.000000\n",
       "Name: partic_age, dtype: float64"
      ]
     },
     "execution_count": 21,
     "metadata": {},
     "output_type": "execute_result"
    }
   ],
   "source": [
    "df_standard[(df_standard.feasibility == 'CTL')]['partic_age'].describe()"
   ]
  },
  {
   "cell_type": "markdown",
   "metadata": {},
   "source": [
    "## Gender"
   ]
  },
  {
   "cell_type": "code",
   "execution_count": 27,
   "metadata": {
    "collapsed": false
   },
   "outputs": [
    {
     "name": "stdout",
     "output_type": "stream",
     "text": [
      "feasibility  partic_gender\n",
      "CTL          Female            21\n",
      "             Male              15\n",
      "MDD          Female           172\n",
      "             Male              86\n",
      "Name: partic_gender, dtype: int64\n"
     ]
    }
   ],
   "source": [
    "print (df_standard.groupby('feasibility')['partic_gender'].value_counts())"
   ]
  },
  {
   "cell_type": "code",
   "execution_count": 29,
   "metadata": {
    "collapsed": false
   },
   "outputs": [
    {
     "name": "stdout",
     "output_type": "stream",
     "text": [
      "Chi-square on Gender: chi-square = 0.97; df = 1.00; p = 0.32\n"
     ]
    }
   ],
   "source": [
    "obs = np.array([[21,15],[172,86]])\n",
    "chi2, p, dof, expected = sp.stats.chi2_contingency(obs,correction=False)\n",
    "print (\"Chi-square on Gender: chi-square = \" + \"{:.2f}\".format(chi2) + \"; df = \" + \"{:.2f}\".format(dof) + \\\n",
    "\"; p = \" + \"{:.2f}\".format(p))"
   ]
  },
  {
   "cell_type": "markdown",
   "metadata": {},
   "source": [
    "## Reward Learning"
   ]
  },
  {
   "cell_type": "markdown",
   "metadata": {},
   "source": [
    "Group X Site ANOVA"
   ]
  },
  {
   "cell_type": "code",
   "execution_count": 7,
   "metadata": {
    "collapsed": false
   },
   "outputs": [
    {
     "name": "stderr",
     "output_type": "stream",
     "text": [
      "/Users/mlm2/anaconda/lib/python3.5/site-packages/rpy2/rinterface/__init__.py:186: RRuntimeWarning: Contrasts set to contr.sum for the following variables: feasibility, site\n",
      "\n",
      "  warnings.warn(x, RRuntimeWarning)\n"
     ]
    },
    {
     "data": {
      "text/plain": [
       "Anova Table (Type 3 tests)\n",
       "\n",
       "Response: RB_adjst_all_Blk2_minus_Blk1\n",
       "            Effect     df  MSE    F p.value\n",
       "1      feasibility 1, 286 0.04 0.31     .58\n",
       "2             site 3, 286 0.04 0.56     .64\n",
       "3 feasibility:site 3, 286 0.04 1.25     .29\n"
      ]
     },
     "metadata": {},
     "output_type": "display_data"
    },
    {
     "data": {
      "image/png": "[encoded data removed]",
      "text/plain": [
       "<matplotlib.figure.Figure at 0x1243e0ef0>"
      ]
     },
     "metadata": {},
     "output_type": "display_data"
    }
   ],
   "source": [
    "reward_learning_plot = sns.barplot(y='RB_adjst_all_Blk2_minus_Blk1', x = 'site', \n",
    "                                   data = df_standard, hue = 'feasibility', ci=68)\n",
    "%Rpush df_standard\n",
    "%R reward_learning_anova <- aov_ez(\"ProjectSpecificID\", dv = \"RB_adjst_all_Blk2_minus_Blk1\", data = df_standard, between = c(\"feasibility\",\"site\"),anova_table=list(correction=\"none\", es = \"none\"))\n",
    "%R print (reward_learning_anova)"
   ]
  },
  {
   "cell_type": "markdown",
   "metadata": {},
   "source": [
    "Group X Site ANCOVA (discriminability)"
   ]
  },
  {
   "cell_type": "code",
   "execution_count": 36,
   "metadata": {
    "collapsed": false
   },
   "outputs": [
    {
     "name": "stderr",
     "output_type": "stream",
     "text": [
      "/Users/mlm2/anaconda/lib/python3.5/site-packages/rpy2/rinterface/__init__.py:186: RRuntimeWarning: Contrasts set to contr.sum for the following variables: feasibility, site\n",
      "\n",
      "  warnings.warn(x, RRuntimeWarning)\n"
     ]
    },
    {
     "data": {
      "text/plain": [
       "Anova Table (Type 3 tests)\n",
       "\n",
       "Response: RB_adjst_all_Blk2_minus_Blk1\n",
       "                Effect     df  MSE    F p.value\n",
       "1          feasibility 1, 285 0.04 0.27     .60\n",
       "2                 site 3, 285 0.04 0.57     .63\n",
       "3 dis_adjst_all1_Total 1, 285 0.04 0.08     .78\n",
       "4     feasibility:site 3, 285 0.04 1.25     .29\n"
      ]
     },
     "metadata": {},
     "output_type": "display_data"
    }
   ],
   "source": [
    "%R reward_learning_ancova <- aov_ez(\"ProjectSpecificID\",dv = \"RB_adjst_all_Blk2_minus_Blk1\", data = df_standard, between=c(\"feasibility\", \"site\"),covariate = \"dis_adjst_all1_Total\",factorize = FALSE,anova_table=list(correction=\"none\", es = \"none\"))\n",
    "%R print(reward_learning_ancova)"
   ]
  },
  {
   "cell_type": "code",
   "execution_count": 18,
   "metadata": {
    "collapsed": false
   },
   "outputs": [
    {
     "name": "stderr",
     "output_type": "stream",
     "text": [
      "/Users/mlm2/anaconda/lib/python3.5/site-packages/rpy2/rinterface/__init__.py:186: RRuntimeWarning: Contrasts set to contr.sum for the following variables: feasibility, site, partic_gender\n",
      "\n",
      "  warnings.warn(x, RRuntimeWarning)\n"
     ]
    },
    {
     "data": {
      "text/plain": [
       "Anova Table (Type 3 tests)\n",
       "\n",
       "Response: RB_adjst_all_Blk2_minus_Blk1\n",
       "                Effect     df  MSE    F p.value\n",
       "1          feasibility 1, 283 0.04 0.23     .63\n",
       "2                 site 3, 283 0.04 0.54     .66\n",
       "3        partic_gender 1, 283 0.04 0.13     .72\n",
       "4 dis_adjst_all1_Total 1, 283 0.04 0.12     .73\n",
       "5           partic_age 1, 283 0.04 0.25     .62\n",
       "6     feasibility:site 3, 283 0.04 1.22     .30\n"
      ]
     },
     "metadata": {},
     "output_type": "display_data"
    }
   ],
   "source": [
    "%Rpush df_standard\n",
    "%R reward_learning_ancova_age_gender <- aov_ez(\"ProjectSpecificID\",dv = \"RB_adjst_all_Blk2_minus_Blk1\", data = df_standard, between=c(\"feasibility\", \"site\"),covariate = c(\"partic_gender\",\"dis_adjst_all1_Total\",\"partic_age\"),factorize = FALSE,anova_table=list(correction=\"none\", es = \"none\"))\n",
    "%R print(reward_learning_ancova_age_gender)"
   ]
  },
  {
   "cell_type": "markdown",
   "metadata": {},
   "source": [
    "Correlating with Shaps"
   ]
  },
  {
   "cell_type": "code",
   "execution_count": 38,
   "metadata": {
    "collapsed": false
   },
   "outputs": [
    {
     "data": {
      "text/plain": [
       "\n",
       "\tPearson's product-moment correlation\n",
       "\n",
       "data:  df_standard_mdd$shaps_total_continuous and df_standard_mdd$RB_adjst_all_Blk2_minus_Blk1\n",
       "t = 0.37458, df = 255, p-value = 0.7083\n",
       "alternative hypothesis: true correlation is not equal to 0\n",
       "95 percent confidence interval:\n",
       " -0.09919653  0.14539656\n",
       "sample estimates:\n",
       "       cor \n",
       "0.02345095 \n",
       "\n"
      ]
     },
     "metadata": {},
     "output_type": "display_data"
    },
    {
     "data": {
      "image/png": "[encoded data removed]",
      "text/plain": [
       "<matplotlib.figure.Figure at 0x12c1784a8>"
      ]
     },
     "metadata": {},
     "output_type": "display_data"
    }
   ],
   "source": [
    "df_standard_mdd = df_standard.loc[df_standard['feasibility'] == 'MDD'] # just looking at the MDDs here\n",
    "%Rpush df_standard_mdd\n",
    "%R reward_learning_shaps <- cor.test(df_standard_mdd$shaps_total_continuous,df_standard_mdd$RB_adjst_all_Blk2_minus_Blk1,method=\"pearson\")\n",
    "%R print (reward_learning_shaps) \n",
    "reward_learning_shaps = sns.lmplot(y='shaps_total_continuous', x = 'RB_adjst_all_Blk2_minus_Blk1', data=df_standard_mdd,ci=68)"
   ]
  },
  {
   "cell_type": "markdown",
   "metadata": {},
   "source": [
    "## Discriminability"
   ]
  },
  {
   "cell_type": "code",
   "execution_count": 8,
   "metadata": {
    "collapsed": false
   },
   "outputs": [
    {
     "name": "stderr",
     "output_type": "stream",
     "text": [
      "/Users/mlm2/anaconda/lib/python3.5/site-packages/rpy2/rinterface/__init__.py:186: RRuntimeWarning: Contrasts set to contr.sum for the following variables: feasibility, site\n",
      "\n",
      "  warnings.warn(x, RRuntimeWarning)\n"
     ]
    },
    {
     "data": {
      "text/plain": [
       "Anova Table (Type 3 tests)\n",
       "\n",
       "Response: dis_adjst_all1_Total\n",
       "            Effect     df  MSE      F p.value\n",
       "1      feasibility 1, 286 0.06 3.66 +     .06\n",
       "2             site 3, 286 0.06   1.58     .19\n",
       "3 feasibility:site 3, 286 0.06   0.09     .97\n"
      ]
     },
     "metadata": {},
     "output_type": "display_data"
    },
    {
     "data": {
      "image/png": "[encoded data removed]",
      "text/plain": [
       "<matplotlib.figure.Figure at 0x1243feeb8>"
      ]
     },
     "metadata": {},
     "output_type": "display_data"
    }
   ],
   "source": [
    "disc_plot = sns.barplot(y='dis_adjst_all1_Total', x = 'site', hue = 'feasibility', data=df_standard, ci=68)\n",
    "%R disc_anova <- aov_ez(\"ProjectSpecificID\",dv = \"dis_adjst_all1_Total\",data = df_standard,between=c(\"feasibility\", \"site\"),anova_table=list(correction=\"none\", es = \"none\"))\n",
    "%R print(disc_anova)"
   ]
  },
  {
   "cell_type": "markdown",
   "metadata": {},
   "source": [
    "## Accuracy"
   ]
  },
  {
   "cell_type": "code",
   "execution_count": 10,
   "metadata": {
    "collapsed": false
   },
   "outputs": [
    {
     "name": "stderr",
     "output_type": "stream",
     "text": [
      "/Users/mlm2/anaconda/lib/python3.5/site-packages/rpy2/rinterface/__init__.py:186: RRuntimeWarning: Contrasts set to contr.sum for the following variables: feasibility, site_x\n",
      "\n",
      "  warnings.warn(x, RRuntimeWarning)\n"
     ]
    },
    {
     "data": {
      "text/plain": [
       "Anova Table (Type 3 tests)\n",
       "\n",
       "Response: response\n",
       "                            Effect     df  MSE         F p.value\n",
       "1                      feasibility 1, 286 0.03    4.48 *     .04\n",
       "2                           site_x 3, 286 0.03      1.43     .23\n",
       "3               feasibility:site_x 3, 286 0.03      0.04     .99\n",
       "4                            block 1, 286 0.00      1.40     .24\n",
       "5                feasibility:block 1, 286 0.00      0.26     .61\n",
       "6                     site_x:block 3, 286 0.00      0.10     .96\n",
       "7         feasibility:site_x:block 3, 286 0.00      0.80     .49\n",
       "8                           length 1, 286 0.01 49.56 ***  <.0001\n",
       "9               feasibility:length 1, 286 0.01      0.00     .98\n",
       "10                   site_x:length 3, 286 0.01      1.51     .21\n",
       "11       feasibility:site_x:length 3, 286 0.01      0.65     .59\n",
       "12                    block:length 1, 286 0.01      1.17     .28\n",
       "13        feasibility:block:length 1, 286 0.01      0.12     .73\n",
       "14             site_x:block:length 3, 286 0.01      0.43     .73\n",
       "15 feasibility:site_x:block:length 3, 286 0.01      1.01     .39\n"
      ]
     },
     "metadata": {},
     "output_type": "display_data"
    },
    {
     "data": {
      "image/png": "[encoded data removed]",
      "text/plain": [
       "<matplotlib.figure.Figure at 0x119eb1f28>"
      ]
     },
     "metadata": {},
     "output_type": "display_data"
    }
   ],
   "source": [
    "acc_plot = sns.barplot(y='response', x = 'site_x', data=df_trial, hue = 'feasibility', ci=68, units = 'subj_idx')\n",
    "%Rpush df_trial\n",
    "%R acc_anova <- aov_ez(\"subj_idx\",dv = \"response\",data = df_trial ,between=c(\"feasibility\", \"site_x\"),within=c(\"block\",\"length\"),anova_table=list(correction=\"none\", es = \"none\"))\n",
    "%R print(acc_anova)"
   ]
  },
  {
   "cell_type": "markdown",
   "metadata": {},
   "source": [
    "**Adding age and gender as covariates**"
   ]
  },
  {
   "cell_type": "code",
   "execution_count": 33,
   "metadata": {
    "collapsed": false
   },
   "outputs": [
    {
     "name": "stderr",
     "output_type": "stream",
     "text": [
      "/Users/mlm2/anaconda/lib/python3.5/site-packages/rpy2/rinterface/__init__.py:186: RRuntimeWarning: Converting to factor: partic_age\n",
      "\n",
      "  warnings.warn(x, RRuntimeWarning)\n",
      "/Users/mlm2/anaconda/lib/python3.5/site-packages/rpy2/rinterface/__init__.py:186: RRuntimeWarning: Contrasts set to contr.sum for the following variables: feasibility, site_x, partic_age, partic_gender\n",
      "\n",
      "  warnings.warn(x, RRuntimeWarning)\n"
     ]
    },
    {
     "data": {
      "text/plain": [
       "Anova Table (Type 3 tests)\n",
       "\n",
       "Response: response\n",
       "                            Effect      df  MSE         F p.value\n",
       "1                      feasibility  1, 239 0.03    3.80 +     .05\n",
       "2                           site_x  3, 239 0.03    2.16 +     .09\n",
       "3                       partic_age 46, 239 0.03      0.84     .76\n",
       "4                    partic_gender  1, 239 0.03      0.91     .34\n",
       "5               feasibility:site_x  3, 239 0.03      0.17     .92\n",
       "6                            block  1, 239 0.00      0.23     .63\n",
       "7                feasibility:block  1, 239 0.00      2.10     .15\n",
       "8                     site_x:block  3, 239 0.00      0.69     .56\n",
       "9                 partic_age:block 46, 239 0.00      1.09     .33\n",
       "10             partic_gender:block  1, 239 0.00      2.19     .14\n",
       "11        feasibility:site_x:block  3, 239 0.00      1.97     .12\n",
       "12                          length  1, 239 0.01 32.08 ***  <.0001\n",
       "13              feasibility:length  1, 239 0.01      0.02     .88\n",
       "14                   site_x:length  3, 239 0.01      1.93     .13\n",
       "15               partic_age:length 46, 239 0.01      1.03     .44\n",
       "16            partic_gender:length  1, 239 0.01      0.93     .34\n",
       "17       feasibility:site_x:length  3, 239 0.01      0.33     .80\n",
       "18                    block:length  1, 239 0.01      1.47     .23\n",
       "19        feasibility:block:length  1, 239 0.01      0.20     .65\n",
       "20             site_x:block:length  3, 239 0.01      0.83     .48\n",
       "21         partic_age:block:length 46, 239 0.01      1.00     .47\n",
       "22      partic_gender:block:length  1, 239 0.01      1.28     .26\n",
       "23 feasibility:site_x:block:length  3, 239 0.01      1.59     .19\n"
      ]
     },
     "metadata": {},
     "output_type": "display_data"
    },
    {
     "data": {
      "image/png": "[encoded data removed]",
      "text/plain": [
       "<matplotlib.figure.Figure at 0x12dc1a668>"
      ]
     },
     "metadata": {},
     "output_type": "display_data"
    }
   ],
   "source": [
    "acc_plot = sns.barplot(y='response', x = 'site_x', data=df_trial, hue = 'feasibility', ci=68, units = 'subj_idx')\n",
    "%Rpush df_trial\n",
    "%R acc_anova <- aov_ez(\"subj_idx\",dv = \"response\",data = df_trial ,between=c(\"feasibility\", \"site_x\"),within=c(\"block\",\"length\"),covariate=c(\"partic_age\",\"partic_gender\"),anova_table=list(correction=\"none\", es = \"none\"))\n",
    "%R print(acc_anova)"
   ]
  },
  {
   "cell_type": "markdown",
   "metadata": {},
   "source": [
    "## Reaction Time"
   ]
  },
  {
   "cell_type": "code",
   "execution_count": 12,
   "metadata": {
    "collapsed": false,
    "scrolled": false
   },
   "outputs": [
    {
     "name": "stderr",
     "output_type": "stream",
     "text": [
      "/Users/mlm2/anaconda/lib/python3.5/site-packages/rpy2/rinterface/__init__.py:186: RRuntimeWarning: Contrasts set to contr.sum for the following variables: feasibility, site_x\n",
      "\n",
      "  warnings.warn(x, RRuntimeWarning)\n"
     ]
    },
    {
     "data": {
      "text/plain": [
       "Anova Table (Type 3 tests)\n",
       "\n",
       "Response: rt\n",
       "                            Effect     df      MSE         F p.value\n",
       "1                      feasibility 1, 286 59264.28    5.54 *     .02\n",
       "2                           site_x 3, 286 59264.28      0.42     .74\n",
       "3               feasibility:site_x 3, 286 59264.28      1.41     .24\n",
       "4                            block 1, 286  3540.32      0.72     .40\n",
       "5                feasibility:block 1, 286  3540.32      0.76     .38\n",
       "6                     site_x:block 3, 286  3540.32      0.66     .58\n",
       "7         feasibility:site_x:block 3, 286  3540.32      0.18     .91\n",
       "8                           length 1, 286  1566.47 43.86 ***  <.0001\n",
       "9               feasibility:length 1, 286  1566.47      0.01     .92\n",
       "10                   site_x:length 3, 286  1566.47      0.32     .81\n",
       "11       feasibility:site_x:length 3, 286  1566.47      0.46     .71\n",
       "12                    block:length 1, 286   794.17  10.68 **    .001\n",
       "13        feasibility:block:length 1, 286   794.17      0.08     .78\n",
       "14             site_x:block:length 3, 286   794.17      0.88     .45\n",
       "15 feasibility:site_x:block:length 3, 286   794.17      0.05     .99\n"
      ]
     },
     "metadata": {},
     "output_type": "display_data"
    },
    {
     "data": {
      "image/png": "[encoded data removed]",
      "text/plain": [
       "<matplotlib.figure.Figure at 0x1253c7e48>"
      ]
     },
     "metadata": {},
     "output_type": "display_data"
    }
   ],
   "source": [
    "rt_plot = sns.barplot(y='response', x = 'site_x', data=df_trial, hue = 'feasibility', ci=68, units = 'subj_idx')\n",
    "%R rt_anova <- aov_ez(\"subj_idx\",\"rt\",data = df_trial,between=c(\"feasibility\", \"site_x\"),within=c(\"block\",\"length\"),anova_table=list(correction=\"none\", es = \"none\"))\n",
    "%R print (rt_anova)"
   ]
  },
  {
   "cell_type": "markdown",
   "metadata": {},
   "source": [
    "**Adding age and gender as covariates**"
   ]
  },
  {
   "cell_type": "code",
   "execution_count": 34,
   "metadata": {
    "collapsed": false
   },
   "outputs": [
    {
     "name": "stderr",
     "output_type": "stream",
     "text": [
      "/Users/mlm2/anaconda/lib/python3.5/site-packages/rpy2/rinterface/__init__.py:186: RRuntimeWarning: Converting to factor: partic_age\n",
      "\n",
      "  warnings.warn(x, RRuntimeWarning)\n",
      "/Users/mlm2/anaconda/lib/python3.5/site-packages/rpy2/rinterface/__init__.py:186: RRuntimeWarning: Contrasts set to contr.sum for the following variables: feasibility, site_x, partic_age, partic_gender\n",
      "\n",
      "  warnings.warn(x, RRuntimeWarning)\n"
     ]
    },
    {
     "data": {
      "text/plain": [
       "Anova Table (Type 3 tests)\n",
       "\n",
       "Response: rt\n",
       "                            Effect      df      MSE         F p.value\n",
       "1                      feasibility  1, 239 51311.43    6.33 *     .01\n",
       "2                           site_x  3, 239 51311.43      0.87     .46\n",
       "3                       partic_age 46, 239 51311.43  1.98 ***   .0005\n",
       "4                    partic_gender  1, 239 51311.43      0.42     .52\n",
       "5               feasibility:site_x  3, 239 51311.43      0.66     .58\n",
       "6                            block  1, 239  3172.16      0.00     .96\n",
       "7                feasibility:block  1, 239  3172.16      1.13     .29\n",
       "8                     site_x:block  3, 239  3172.16    2.16 +     .09\n",
       "9                 partic_age:block 46, 239  3172.16   1.74 **    .004\n",
       "10             partic_gender:block  1, 239  3172.16      1.02     .31\n",
       "11        feasibility:site_x:block  3, 239  3172.16      0.66     .57\n",
       "12                          length  1, 239  1432.20 35.16 ***  <.0001\n",
       "13              feasibility:length  1, 239  1432.20      0.35     .55\n",
       "14                   site_x:length  3, 239  1432.20      0.04     .99\n",
       "15               partic_age:length 46, 239  1432.20    1.60 *     .01\n",
       "16            partic_gender:length  1, 239  1432.20      0.92     .34\n",
       "17       feasibility:site_x:length  3, 239  1432.20      0.23     .88\n",
       "18                    block:length  1, 239   729.40   9.12 **    .003\n",
       "19        feasibility:block:length  1, 239   729.40      0.28     .60\n",
       "20             site_x:block:length  3, 239   729.40      1.16     .33\n",
       "21         partic_age:block:length 46, 239   729.40    1.52 *     .02\n",
       "22      partic_gender:block:length  1, 239   729.40    3.68 +     .06\n",
       "23 feasibility:site_x:block:length  3, 239   729.40      0.39     .76\n"
      ]
     },
     "metadata": {},
     "output_type": "display_data"
    },
    {
     "data": {
      "image/png": "[encoded data removed]",
      "text/plain": [
       "<matplotlib.figure.Figure at 0x124633358>"
      ]
     },
     "metadata": {},
     "output_type": "display_data"
    }
   ],
   "source": [
    "rt_plot = sns.barplot(y='response', x = 'site_x', data=df_trial, hue = 'feasibility', ci=68, units = 'subj_idx')\n",
    "%R rt_anova <- aov_ez(\"subj_idx\",\"rt\",data = df_trial,between=c(\"feasibility\", \"site_x\"),within=c(\"block\",\"length\"),covariate=c(\"partic_age\",\"partic_gender\"),anova_table=list(correction=\"none\", es = \"none\"))\n",
    "%R print (rt_anova)"
   ]
  },
  {
   "cell_type": "markdown",
   "metadata": {},
   "source": [
    "# HDDM Analysis"
   ]
  },
  {
   "cell_type": "markdown",
   "metadata": {},
   "source": [
    "Simple model that doesn't take within-subject factors into consideration; this gets smoother with larger sampling, I just wanted to make sure it was still working"
   ]
  },
  {
   "cell_type": "code",
   "execution_count": 17,
   "metadata": {
    "collapsed": true
   },
   "outputs": [],
   "source": [
    "all_data = hddm.load_csv('Data/prt_trial_compact.csv')\n",
    "all_data['rt'] = all_data['rt'] / 1000 # convert to seconds"
   ]
  },
  {
   "cell_type": "code",
   "execution_count": 18,
   "metadata": {
    "collapsed": false
   },
   "outputs": [
    {
     "name": "stderr",
     "output_type": "stream",
     "text": [
      "/Users/mlm2/anaconda/lib/python3.5/site-packages/pymc/Node.py:403: VisibleDeprecationWarning: using a non-integer number instead of an integer will result in an error in the future\n",
      "  self.__name__ = input['__name__']\n"
     ]
    },
    {
     "name": "stdout",
     "output_type": "stream",
     "text": [
      " [-----------------100%-----------------] 1001 of 1000 complete in 342.7 sec"
     ]
    },
    {
     "name": "stderr",
     "output_type": "stream",
     "text": [
      "/Users/mlm2/anaconda/lib/python3.5/site-packages/numpy/core/fromnumeric.py:225: VisibleDeprecationWarning: using a non-integer number instead of an integer will result in an error in the future\n",
      "  return reshape(newshape, order=order)\n"
     ]
    },
    {
     "data": {
      "text/plain": [
       "<pymc.MCMC.MCMC at 0x135c65cc0>"
      ]
     },
     "execution_count": 18,
     "metadata": {},
     "output_type": "execute_result"
    }
   ],
   "source": [
    "m_general = hddm.HDDM(all_data, depends_on={'v': 'feasibility', 'a': 'feasibility', 't':'feasibility'})\n",
    "m_general.find_starting_values()\n",
    "m_general.sample(1000, burn=100)"
   ]
  },
  {
   "cell_type": "code",
   "execution_count": 19,
   "metadata": {
    "collapsed": false
   },
   "outputs": [
    {
     "name": "stdout",
     "output_type": "stream",
     "text": [
      "P_v(MDD > CTL) =  0.0\n",
      "P_v(CTL > MDD) =  1.0\n"
     ]
    },
    {
     "data": {
      "image/png": "[encoded data removed]",
      "text/plain": [
       "<matplotlib.figure.Figure at 0x1260202e8>"
      ]
     },
     "metadata": {},
     "output_type": "display_data"
    }
   ],
   "source": [
    "v_MDD, v_CTL = m_general.nodes_db.node[['v(MDD)','v(CTL)']]\n",
    "hddm.analyze.plot_posterior_nodes([v_MDD, v_CTL])\n",
    "plt.xlabel('drift-rate')\n",
    "plt.ylabel('Posterior probability')\n",
    "plt.title('Posterior of drift-rate group means')\n",
    "plt.savefig('ctl_mdd_drift_rate_more_samples.pdf')\n",
    "\n",
    "print (\"P_v(MDD > CTL) = \", (v_MDD.trace() > v_CTL.trace()).mean())\n",
    "print (\"P_v(CTL > MDD) = \", (v_CTL.trace() > v_MDD.trace()).mean())"
   ]
  },
  {
   "cell_type": "code",
   "execution_count": 20,
   "metadata": {
    "collapsed": false
   },
   "outputs": [
    {
     "name": "stdout",
     "output_type": "stream",
     "text": [
      "P_a(MDD > CTL) =  0.994444444444\n",
      "P_a(CTL > MDD) =  0.00555555555556\n"
     ]
    },
    {
     "data": {
      "image/png": "[encoded data removed]",
      "text/plain": [
       "<matplotlib.figure.Figure at 0x126020b70>"
      ]
     },
     "metadata": {},
     "output_type": "display_data"
    }
   ],
   "source": [
    "a_MDD, a_CTL = m_general.nodes_db.node[['a(MDD)','a(CTL)']]\n",
    "hddm.analyze.plot_posterior_nodes([a_MDD, a_CTL])\n",
    "plt.xlabel('a')\n",
    "plt.ylabel('Posterior probability')\n",
    "plt.title('Posterior of decision threshold group means')\n",
    "plt.savefig('ctl_mdd_a_more_samples.pdf')\n",
    "\n",
    "print (\"P_a(MDD > CTL) = \", (a_MDD.trace() > a_CTL.trace()).mean())\n",
    "print (\"P_a(CTL > MDD) = \", (a_CTL.trace() > a_MDD.trace()).mean())"
   ]
  },
  {
   "cell_type": "code",
   "execution_count": 21,
   "metadata": {
    "collapsed": false
   },
   "outputs": [
    {
     "name": "stdout",
     "output_type": "stream",
     "text": [
      "P_t(MDD > CTL) =  0.224444444444\n",
      "P_t(CTL > MDD) =  0.775555555556\n"
     ]
    },
    {
     "data": {
      "image/png": "[encoded data removed]",
      "text/plain": [
       "<matplotlib.figure.Figure at 0x12268e6a0>"
      ]
     },
     "metadata": {},
     "output_type": "display_data"
    }
   ],
   "source": [
    "t_MDD, t_CTL = m_general.nodes_db.node[['t(MDD)','t(CTL)']]\n",
    "hddm.analyze.plot_posterior_nodes([t_MDD, t_CTL])\n",
    "plt.xlabel('t')\n",
    "plt.ylabel('Posterior probability')\n",
    "plt.title('Posterior of non-decision time group means')\n",
    "plt.savefig('ctl_mdd_a_more_samples.pdf')\n",
    "\n",
    "print (\"P_t(MDD > CTL) = \", (t_MDD.trace() > t_CTL.trace()).mean())\n",
    "print (\"P_t(CTL > MDD) = \", (t_CTL.trace() > t_MDD.trace()).mean())"
   ]
  },
  {
   "cell_type": "code",
   "execution_count": 5,
   "metadata": {
    "collapsed": false,
    "scrolled": false
   },
   "outputs": [
    {
     "name": "stdout",
     "output_type": "stream",
     "text": [
      "Adding these covariates:\n",
      "['v_Intercept', 'v_feasibility[T.MDD]']\n",
      "Adding these covariates:\n",
      "['a_Intercept', 'a_feasibility[T.MDD]']\n"
     ]
    },
    {
     "name": "stderr",
     "output_type": "stream",
     "text": [
      "/Users/mlm2/anaconda/lib/python3.5/site-packages/pymc/Node.py:403: VisibleDeprecationWarning: using a non-integer number instead of an integer will result in an error in the future\n",
      "  self.__name__ = input['__name__']\n"
     ]
    },
    {
     "name": "stdout",
     "output_type": "stream",
     "text": [
      " [-----------------100%-----------------] 1001 of 1000 complete in 8406.8 sec"
     ]
    },
    {
     "name": "stderr",
     "output_type": "stream",
     "text": [
      "/Users/mlm2/anaconda/lib/python3.5/site-packages/numpy/core/fromnumeric.py:225: VisibleDeprecationWarning: using a non-integer number instead of an integer will result in an error in the future\n",
      "  return reshape(newshape, order=order)\n"
     ]
    },
    {
     "data": {
      "text/plain": [
       "<pymc.MCMC.MCMC at 0x12d30c588>"
      ]
     },
     "execution_count": 5,
     "metadata": {},
     "output_type": "execute_result"
    }
   ],
   "source": [
    "full_model = hddm.load_csv('Data/prt_trial_compact.csv')\n",
    "full_model['rt'] = full_model['rt'] / 1000\n",
    "del full_model['Unnamed: 0']\n",
    "del full_model['outlier']\n",
    "m_full_model = hddm.HDDMRegressor(full_model, ['v ~ feasibility', 'a ~ feasibility'])\n",
    "m_full_model.sample(1000, burn=100)"
   ]
  },
  {
   "cell_type": "code",
   "execution_count": 11,
   "metadata": {
    "collapsed": false
   },
   "outputs": [
    {
     "ename": "AttributeError",
     "evalue": "'Series' object has no attribute 'trace'",
     "output_type": "error",
     "traceback": [
      "\u001b[0;31m---------------------------------------------------------------------------\u001b[0m",
      "\u001b[0;31mAttributeError\u001b[0m                            Traceback (most recent call last)",
      "\u001b[0;32m<ipython-input-11-513624159e34>\u001b[0m in \u001b[0;36m<module>\u001b[0;34m()\u001b[0m\n\u001b[1;32m      1\u001b[0m \u001b[0mv_MDD\u001b[0m \u001b[0;34m=\u001b[0m \u001b[0mm_full_model\u001b[0m\u001b[0;34m.\u001b[0m\u001b[0mnodes_db\u001b[0m\u001b[0;34m.\u001b[0m\u001b[0mnode\u001b[0m\u001b[0;34m[\u001b[0m\u001b[0;34m[\u001b[0m\u001b[0;34m'v(MDD)'\u001b[0m\u001b[0;34m]\u001b[0m\u001b[0;34m]\u001b[0m\u001b[0;34m\u001b[0m\u001b[0m\n\u001b[0;32m----> 2\u001b[0;31m \u001b[0mhddm\u001b[0m\u001b[0;34m.\u001b[0m\u001b[0manalyze\u001b[0m\u001b[0;34m.\u001b[0m\u001b[0mplot_posterior_nodes\u001b[0m\u001b[0;34m(\u001b[0m\u001b[0;34m[\u001b[0m\u001b[0mv_MDD\u001b[0m\u001b[0;34m]\u001b[0m\u001b[0;34m)\u001b[0m\u001b[0;34m\u001b[0m\u001b[0m\n\u001b[0m\u001b[1;32m      3\u001b[0m \u001b[0mplt\u001b[0m\u001b[0;34m.\u001b[0m\u001b[0mxlabel\u001b[0m\u001b[0;34m(\u001b[0m\u001b[0;34m't'\u001b[0m\u001b[0;34m)\u001b[0m\u001b[0;34m\u001b[0m\u001b[0m\n\u001b[1;32m      4\u001b[0m \u001b[0mplt\u001b[0m\u001b[0;34m.\u001b[0m\u001b[0mylabel\u001b[0m\u001b[0;34m(\u001b[0m\u001b[0;34m'Posterior probability'\u001b[0m\u001b[0;34m)\u001b[0m\u001b[0;34m\u001b[0m\u001b[0m\n\u001b[1;32m      5\u001b[0m \u001b[0mplt\u001b[0m\u001b[0;34m.\u001b[0m\u001b[0mtitle\u001b[0m\u001b[0;34m(\u001b[0m\u001b[0;34m'Posterior of non-decision time group means'\u001b[0m\u001b[0;34m)\u001b[0m\u001b[0;34m\u001b[0m\u001b[0m\n",
      "\u001b[0;32m/Users/mlm2/anaconda/lib/python3.5/site-packages/kabuki/analyze.py\u001b[0m in \u001b[0;36mplot_posterior_nodes\u001b[0;34m(nodes, bins, lb, ub)\u001b[0m\n\u001b[1;32m     32\u001b[0m     \u001b[0mfigure\u001b[0m\u001b[0;34m(\u001b[0m\u001b[0;34m)\u001b[0m\u001b[0;34m\u001b[0m\u001b[0m\n\u001b[1;32m     33\u001b[0m     \u001b[0;32mif\u001b[0m \u001b[0mlb\u001b[0m \u001b[0;32mis\u001b[0m \u001b[0;32mNone\u001b[0m\u001b[0;34m:\u001b[0m\u001b[0;34m\u001b[0m\u001b[0m\n\u001b[0;32m---> 34\u001b[0;31m         \u001b[0mlb\u001b[0m \u001b[0;34m=\u001b[0m \u001b[0mmin\u001b[0m\u001b[0;34m(\u001b[0m\u001b[0;34m[\u001b[0m\u001b[0mmin\u001b[0m\u001b[0;34m(\u001b[0m\u001b[0mnode\u001b[0m\u001b[0;34m.\u001b[0m\u001b[0mtrace\u001b[0m\u001b[0;34m(\u001b[0m\u001b[0;34m)\u001b[0m\u001b[0;34m[\u001b[0m\u001b[0;34m:\u001b[0m\u001b[0;34m]\u001b[0m\u001b[0;34m)\u001b[0m \u001b[0;32mfor\u001b[0m \u001b[0mnode\u001b[0m \u001b[0;32min\u001b[0m \u001b[0mnodes\u001b[0m\u001b[0;34m]\u001b[0m\u001b[0;34m)\u001b[0m\u001b[0;34m\u001b[0m\u001b[0m\n\u001b[0m\u001b[1;32m     35\u001b[0m     \u001b[0;32mif\u001b[0m \u001b[0mub\u001b[0m \u001b[0;32mis\u001b[0m \u001b[0;32mNone\u001b[0m\u001b[0;34m:\u001b[0m\u001b[0;34m\u001b[0m\u001b[0m\n\u001b[1;32m     36\u001b[0m         \u001b[0mub\u001b[0m \u001b[0;34m=\u001b[0m \u001b[0mmax\u001b[0m\u001b[0;34m(\u001b[0m\u001b[0;34m[\u001b[0m\u001b[0mmax\u001b[0m\u001b[0;34m(\u001b[0m\u001b[0mnode\u001b[0m\u001b[0;34m.\u001b[0m\u001b[0mtrace\u001b[0m\u001b[0;34m(\u001b[0m\u001b[0;34m)\u001b[0m\u001b[0;34m[\u001b[0m\u001b[0;34m:\u001b[0m\u001b[0;34m]\u001b[0m\u001b[0;34m)\u001b[0m \u001b[0;32mfor\u001b[0m \u001b[0mnode\u001b[0m \u001b[0;32min\u001b[0m \u001b[0mnodes\u001b[0m\u001b[0;34m]\u001b[0m\u001b[0;34m)\u001b[0m\u001b[0;34m\u001b[0m\u001b[0m\n",
      "\u001b[0;32m/Users/mlm2/anaconda/lib/python3.5/site-packages/kabuki/analyze.py\u001b[0m in \u001b[0;36m<listcomp>\u001b[0;34m(.0)\u001b[0m\n\u001b[1;32m     32\u001b[0m     \u001b[0mfigure\u001b[0m\u001b[0;34m(\u001b[0m\u001b[0;34m)\u001b[0m\u001b[0;34m\u001b[0m\u001b[0m\n\u001b[1;32m     33\u001b[0m     \u001b[0;32mif\u001b[0m \u001b[0mlb\u001b[0m \u001b[0;32mis\u001b[0m \u001b[0;32mNone\u001b[0m\u001b[0;34m:\u001b[0m\u001b[0;34m\u001b[0m\u001b[0m\n\u001b[0;32m---> 34\u001b[0;31m         \u001b[0mlb\u001b[0m \u001b[0;34m=\u001b[0m \u001b[0mmin\u001b[0m\u001b[0;34m(\u001b[0m\u001b[0;34m[\u001b[0m\u001b[0mmin\u001b[0m\u001b[0;34m(\u001b[0m\u001b[0mnode\u001b[0m\u001b[0;34m.\u001b[0m\u001b[0mtrace\u001b[0m\u001b[0;34m(\u001b[0m\u001b[0;34m)\u001b[0m\u001b[0;34m[\u001b[0m\u001b[0;34m:\u001b[0m\u001b[0;34m]\u001b[0m\u001b[0;34m)\u001b[0m \u001b[0;32mfor\u001b[0m \u001b[0mnode\u001b[0m \u001b[0;32min\u001b[0m \u001b[0mnodes\u001b[0m\u001b[0;34m]\u001b[0m\u001b[0;34m)\u001b[0m\u001b[0;34m\u001b[0m\u001b[0m\n\u001b[0m\u001b[1;32m     35\u001b[0m     \u001b[0;32mif\u001b[0m \u001b[0mub\u001b[0m \u001b[0;32mis\u001b[0m \u001b[0;32mNone\u001b[0m\u001b[0;34m:\u001b[0m\u001b[0;34m\u001b[0m\u001b[0m\n\u001b[1;32m     36\u001b[0m         \u001b[0mub\u001b[0m \u001b[0;34m=\u001b[0m \u001b[0mmax\u001b[0m\u001b[0;34m(\u001b[0m\u001b[0;34m[\u001b[0m\u001b[0mmax\u001b[0m\u001b[0;34m(\u001b[0m\u001b[0mnode\u001b[0m\u001b[0;34m.\u001b[0m\u001b[0mtrace\u001b[0m\u001b[0;34m(\u001b[0m\u001b[0;34m)\u001b[0m\u001b[0;34m[\u001b[0m\u001b[0;34m:\u001b[0m\u001b[0;34m]\u001b[0m\u001b[0;34m)\u001b[0m \u001b[0;32mfor\u001b[0m \u001b[0mnode\u001b[0m \u001b[0;32min\u001b[0m \u001b[0mnodes\u001b[0m\u001b[0;34m]\u001b[0m\u001b[0;34m)\u001b[0m\u001b[0;34m\u001b[0m\u001b[0m\n",
      "\u001b[0;32m/Users/mlm2/anaconda/lib/python3.5/site-packages/pandas/core/generic.py\u001b[0m in \u001b[0;36m__getattr__\u001b[0;34m(self, name)\u001b[0m\n\u001b[1;32m   2670\u001b[0m             \u001b[0;32mif\u001b[0m \u001b[0mname\u001b[0m \u001b[0;32min\u001b[0m \u001b[0mself\u001b[0m\u001b[0;34m.\u001b[0m\u001b[0m_info_axis\u001b[0m\u001b[0;34m:\u001b[0m\u001b[0;34m\u001b[0m\u001b[0m\n\u001b[1;32m   2671\u001b[0m                 \u001b[0;32mreturn\u001b[0m \u001b[0mself\u001b[0m\u001b[0;34m[\u001b[0m\u001b[0mname\u001b[0m\u001b[0;34m]\u001b[0m\u001b[0;34m\u001b[0m\u001b[0m\n\u001b[0;32m-> 2672\u001b[0;31m             \u001b[0;32mreturn\u001b[0m \u001b[0mobject\u001b[0m\u001b[0;34m.\u001b[0m\u001b[0m__getattribute__\u001b[0m\u001b[0;34m(\u001b[0m\u001b[0mself\u001b[0m\u001b[0;34m,\u001b[0m \u001b[0mname\u001b[0m\u001b[0;34m)\u001b[0m\u001b[0;34m\u001b[0m\u001b[0m\n\u001b[0m\u001b[1;32m   2673\u001b[0m \u001b[0;34m\u001b[0m\u001b[0m\n\u001b[1;32m   2674\u001b[0m     \u001b[0;32mdef\u001b[0m \u001b[0m__setattr__\u001b[0m\u001b[0;34m(\u001b[0m\u001b[0mself\u001b[0m\u001b[0;34m,\u001b[0m \u001b[0mname\u001b[0m\u001b[0;34m,\u001b[0m \u001b[0mvalue\u001b[0m\u001b[0;34m)\u001b[0m\u001b[0;34m:\u001b[0m\u001b[0;34m\u001b[0m\u001b[0m\n",
      "\u001b[0;31mAttributeError\u001b[0m: 'Series' object has no attribute 'trace'"
     ]
    },
    {
     "data": {
      "text/plain": [
       "<matplotlib.figure.Figure at 0x12a02a240>"
      ]
     },
     "metadata": {},
     "output_type": "display_data"
    }
   ],
   "source": [
    "v_MDD = m_full_model.nodes_db.node[['v(MDD)']]\n",
    "hddm.analyze.plot_posterior_nodes([v_MDD])\n",
    "plt.xlabel('t')\n",
    "plt.ylabel('Posterior probability')\n",
    "plt.title('Posterior of non-decision time group means')\n",
    "plt.savefig('ctl_mdd_a_more_samples.pdf')\n",
    "\n",
    "print (\"P_v(MDD > CTL) = \", (v_MDD.trace() > v_CTL.trace()).mean())\n",
    "print (\"P_v(CTL > MDD) = \", (v_CTL.trace() > v_MDD.trace()).mean())"
   ]
  },
  {
   "cell_type": "code",
   "execution_count": 37,
   "metadata": {
    "collapsed": false,
    "scrolled": true
   },
   "outputs": [
    {
     "data": {
      "text/html": [
       "<div>\n",
       "<table border=\"1\" class=\"dataframe\">\n",
       "  <thead>\n",
       "    <tr style=\"text-align: right;\">\n",
       "      <th></th>\n",
       "      <th>subj_idx</th>\n",
       "      <th>site_x</th>\n",
       "      <th>trial</th>\n",
       "      <th>length</th>\n",
       "      <th>rt</th>\n",
       "      <th>response</th>\n",
       "      <th>block</th>\n",
       "      <th>feasibility</th>\n",
       "      <th>shaps_total_dichotomous</th>\n",
       "      <th>shaps_total_continuous</th>\n",
       "    </tr>\n",
       "  </thead>\n",
       "  <tbody>\n",
       "    <tr>\n",
       "      <th>0</th>\n",
       "      <td>MG0006</td>\n",
       "      <td>MG</td>\n",
       "      <td>1</td>\n",
       "      <td>short</td>\n",
       "      <td>0.704</td>\n",
       "      <td>0</td>\n",
       "      <td>1.0</td>\n",
       "      <td>CTL</td>\n",
       "      <td>2.0</td>\n",
       "      <td>28.0</td>\n",
       "    </tr>\n",
       "    <tr>\n",
       "      <th>1</th>\n",
       "      <td>MG0006</td>\n",
       "      <td>MG</td>\n",
       "      <td>2</td>\n",
       "      <td>long</td>\n",
       "      <td>0.414</td>\n",
       "      <td>1</td>\n",
       "      <td>1.0</td>\n",
       "      <td>CTL</td>\n",
       "      <td>2.0</td>\n",
       "      <td>28.0</td>\n",
       "    </tr>\n",
       "    <tr>\n",
       "      <th>2</th>\n",
       "      <td>MG0006</td>\n",
       "      <td>MG</td>\n",
       "      <td>3</td>\n",
       "      <td>short</td>\n",
       "      <td>0.456</td>\n",
       "      <td>1</td>\n",
       "      <td>1.0</td>\n",
       "      <td>CTL</td>\n",
       "      <td>2.0</td>\n",
       "      <td>28.0</td>\n",
       "    </tr>\n",
       "    <tr>\n",
       "      <th>3</th>\n",
       "      <td>MG0006</td>\n",
       "      <td>MG</td>\n",
       "      <td>4</td>\n",
       "      <td>long</td>\n",
       "      <td>0.416</td>\n",
       "      <td>1</td>\n",
       "      <td>1.0</td>\n",
       "      <td>CTL</td>\n",
       "      <td>2.0</td>\n",
       "      <td>28.0</td>\n",
       "    </tr>\n",
       "    <tr>\n",
       "      <th>4</th>\n",
       "      <td>MG0006</td>\n",
       "      <td>MG</td>\n",
       "      <td>5</td>\n",
       "      <td>short</td>\n",
       "      <td>0.490</td>\n",
       "      <td>0</td>\n",
       "      <td>1.0</td>\n",
       "      <td>CTL</td>\n",
       "      <td>2.0</td>\n",
       "      <td>28.0</td>\n",
       "    </tr>\n",
       "    <tr>\n",
       "      <th>5</th>\n",
       "      <td>MG0006</td>\n",
       "      <td>MG</td>\n",
       "      <td>6</td>\n",
       "      <td>short</td>\n",
       "      <td>0.481</td>\n",
       "      <td>1</td>\n",
       "      <td>1.0</td>\n",
       "      <td>CTL</td>\n",
       "      <td>2.0</td>\n",
       "      <td>28.0</td>\n",
       "    </tr>\n",
       "    <tr>\n",
       "      <th>6</th>\n",
       "      <td>MG0006</td>\n",
       "      <td>MG</td>\n",
       "      <td>7</td>\n",
       "      <td>short</td>\n",
       "      <td>0.553</td>\n",
       "      <td>1</td>\n",
       "      <td>1.0</td>\n",
       "      <td>CTL</td>\n",
       "      <td>2.0</td>\n",
       "      <td>28.0</td>\n",
       "    </tr>\n",
       "    <tr>\n",
       "      <th>7</th>\n",
       "      <td>MG0006</td>\n",
       "      <td>MG</td>\n",
       "      <td>8</td>\n",
       "      <td>long</td>\n",
       "      <td>0.509</td>\n",
       "      <td>1</td>\n",
       "      <td>1.0</td>\n",
       "      <td>CTL</td>\n",
       "      <td>2.0</td>\n",
       "      <td>28.0</td>\n",
       "    </tr>\n",
       "    <tr>\n",
       "      <th>8</th>\n",
       "      <td>MG0006</td>\n",
       "      <td>MG</td>\n",
       "      <td>9</td>\n",
       "      <td>short</td>\n",
       "      <td>0.483</td>\n",
       "      <td>0</td>\n",
       "      <td>1.0</td>\n",
       "      <td>CTL</td>\n",
       "      <td>2.0</td>\n",
       "      <td>28.0</td>\n",
       "    </tr>\n",
       "    <tr>\n",
       "      <th>9</th>\n",
       "      <td>MG0006</td>\n",
       "      <td>MG</td>\n",
       "      <td>10</td>\n",
       "      <td>short</td>\n",
       "      <td>0.378</td>\n",
       "      <td>1</td>\n",
       "      <td>1.0</td>\n",
       "      <td>CTL</td>\n",
       "      <td>2.0</td>\n",
       "      <td>28.0</td>\n",
       "    </tr>\n",
       "    <tr>\n",
       "      <th>10</th>\n",
       "      <td>MG0006</td>\n",
       "      <td>MG</td>\n",
       "      <td>11</td>\n",
       "      <td>long</td>\n",
       "      <td>0.438</td>\n",
       "      <td>1</td>\n",
       "      <td>1.0</td>\n",
       "      <td>CTL</td>\n",
       "      <td>2.0</td>\n",
       "      <td>28.0</td>\n",
       "    </tr>\n",
       "    <tr>\n",
       "      <th>11</th>\n",
       "      <td>MG0006</td>\n",
       "      <td>MG</td>\n",
       "      <td>12</td>\n",
       "      <td>short</td>\n",
       "      <td>0.702</td>\n",
       "      <td>0</td>\n",
       "      <td>1.0</td>\n",
       "      <td>CTL</td>\n",
       "      <td>2.0</td>\n",
       "      <td>28.0</td>\n",
       "    </tr>\n",
       "    <tr>\n",
       "      <th>12</th>\n",
       "      <td>MG0006</td>\n",
       "      <td>MG</td>\n",
       "      <td>13</td>\n",
       "      <td>long</td>\n",
       "      <td>0.396</td>\n",
       "      <td>1</td>\n",
       "      <td>1.0</td>\n",
       "      <td>CTL</td>\n",
       "      <td>2.0</td>\n",
       "      <td>28.0</td>\n",
       "    </tr>\n",
       "    <tr>\n",
       "      <th>13</th>\n",
       "      <td>MG0006</td>\n",
       "      <td>MG</td>\n",
       "      <td>14</td>\n",
       "      <td>short</td>\n",
       "      <td>0.391</td>\n",
       "      <td>1</td>\n",
       "      <td>1.0</td>\n",
       "      <td>CTL</td>\n",
       "      <td>2.0</td>\n",
       "      <td>28.0</td>\n",
       "    </tr>\n",
       "    <tr>\n",
       "      <th>14</th>\n",
       "      <td>MG0006</td>\n",
       "      <td>MG</td>\n",
       "      <td>15</td>\n",
       "      <td>long</td>\n",
       "      <td>0.434</td>\n",
       "      <td>1</td>\n",
       "      <td>1.0</td>\n",
       "      <td>CTL</td>\n",
       "      <td>2.0</td>\n",
       "      <td>28.0</td>\n",
       "    </tr>\n",
       "    <tr>\n",
       "      <th>15</th>\n",
       "      <td>MG0006</td>\n",
       "      <td>MG</td>\n",
       "      <td>16</td>\n",
       "      <td>long</td>\n",
       "      <td>0.379</td>\n",
       "      <td>1</td>\n",
       "      <td>1.0</td>\n",
       "      <td>CTL</td>\n",
       "      <td>2.0</td>\n",
       "      <td>28.0</td>\n",
       "    </tr>\n",
       "    <tr>\n",
       "      <th>16</th>\n",
       "      <td>MG0006</td>\n",
       "      <td>MG</td>\n",
       "      <td>17</td>\n",
       "      <td>short</td>\n",
       "      <td>0.375</td>\n",
       "      <td>1</td>\n",
       "      <td>1.0</td>\n",
       "      <td>CTL</td>\n",
       "      <td>2.0</td>\n",
       "      <td>28.0</td>\n",
       "    </tr>\n",
       "    <tr>\n",
       "      <th>17</th>\n",
       "      <td>MG0006</td>\n",
       "      <td>MG</td>\n",
       "      <td>18</td>\n",
       "      <td>short</td>\n",
       "      <td>0.530</td>\n",
       "      <td>1</td>\n",
       "      <td>1.0</td>\n",
       "      <td>CTL</td>\n",
       "      <td>2.0</td>\n",
       "      <td>28.0</td>\n",
       "    </tr>\n",
       "    <tr>\n",
       "      <th>18</th>\n",
       "      <td>MG0006</td>\n",
       "      <td>MG</td>\n",
       "      <td>19</td>\n",
       "      <td>short</td>\n",
       "      <td>0.360</td>\n",
       "      <td>1</td>\n",
       "      <td>1.0</td>\n",
       "      <td>CTL</td>\n",
       "      <td>2.0</td>\n",
       "      <td>28.0</td>\n",
       "    </tr>\n",
       "    <tr>\n",
       "      <th>19</th>\n",
       "      <td>MG0006</td>\n",
       "      <td>MG</td>\n",
       "      <td>20</td>\n",
       "      <td>long</td>\n",
       "      <td>0.483</td>\n",
       "      <td>1</td>\n",
       "      <td>1.0</td>\n",
       "      <td>CTL</td>\n",
       "      <td>2.0</td>\n",
       "      <td>28.0</td>\n",
       "    </tr>\n",
       "    <tr>\n",
       "      <th>20</th>\n",
       "      <td>MG0006</td>\n",
       "      <td>MG</td>\n",
       "      <td>21</td>\n",
       "      <td>long</td>\n",
       "      <td>0.411</td>\n",
       "      <td>1</td>\n",
       "      <td>1.0</td>\n",
       "      <td>CTL</td>\n",
       "      <td>2.0</td>\n",
       "      <td>28.0</td>\n",
       "    </tr>\n",
       "    <tr>\n",
       "      <th>21</th>\n",
       "      <td>MG0006</td>\n",
       "      <td>MG</td>\n",
       "      <td>22</td>\n",
       "      <td>short</td>\n",
       "      <td>0.422</td>\n",
       "      <td>1</td>\n",
       "      <td>1.0</td>\n",
       "      <td>CTL</td>\n",
       "      <td>2.0</td>\n",
       "      <td>28.0</td>\n",
       "    </tr>\n",
       "    <tr>\n",
       "      <th>22</th>\n",
       "      <td>MG0006</td>\n",
       "      <td>MG</td>\n",
       "      <td>23</td>\n",
       "      <td>long</td>\n",
       "      <td>0.431</td>\n",
       "      <td>1</td>\n",
       "      <td>1.0</td>\n",
       "      <td>CTL</td>\n",
       "      <td>2.0</td>\n",
       "      <td>28.0</td>\n",
       "    </tr>\n",
       "    <tr>\n",
       "      <th>23</th>\n",
       "      <td>MG0006</td>\n",
       "      <td>MG</td>\n",
       "      <td>24</td>\n",
       "      <td>short</td>\n",
       "      <td>0.393</td>\n",
       "      <td>1</td>\n",
       "      <td>1.0</td>\n",
       "      <td>CTL</td>\n",
       "      <td>2.0</td>\n",
       "      <td>28.0</td>\n",
       "    </tr>\n",
       "    <tr>\n",
       "      <th>24</th>\n",
       "      <td>MG0006</td>\n",
       "      <td>MG</td>\n",
       "      <td>25</td>\n",
       "      <td>long</td>\n",
       "      <td>0.404</td>\n",
       "      <td>1</td>\n",
       "      <td>1.0</td>\n",
       "      <td>CTL</td>\n",
       "      <td>2.0</td>\n",
       "      <td>28.0</td>\n",
       "    </tr>\n",
       "    <tr>\n",
       "      <th>25</th>\n",
       "      <td>MG0006</td>\n",
       "      <td>MG</td>\n",
       "      <td>26</td>\n",
       "      <td>long</td>\n",
       "      <td>0.383</td>\n",
       "      <td>1</td>\n",
       "      <td>1.0</td>\n",
       "      <td>CTL</td>\n",
       "      <td>2.0</td>\n",
       "      <td>28.0</td>\n",
       "    </tr>\n",
       "    <tr>\n",
       "      <th>26</th>\n",
       "      <td>MG0006</td>\n",
       "      <td>MG</td>\n",
       "      <td>27</td>\n",
       "      <td>long</td>\n",
       "      <td>0.330</td>\n",
       "      <td>1</td>\n",
       "      <td>1.0</td>\n",
       "      <td>CTL</td>\n",
       "      <td>2.0</td>\n",
       "      <td>28.0</td>\n",
       "    </tr>\n",
       "    <tr>\n",
       "      <th>27</th>\n",
       "      <td>MG0006</td>\n",
       "      <td>MG</td>\n",
       "      <td>28</td>\n",
       "      <td>short</td>\n",
       "      <td>0.536</td>\n",
       "      <td>0</td>\n",
       "      <td>1.0</td>\n",
       "      <td>CTL</td>\n",
       "      <td>2.0</td>\n",
       "      <td>28.0</td>\n",
       "    </tr>\n",
       "    <tr>\n",
       "      <th>28</th>\n",
       "      <td>MG0006</td>\n",
       "      <td>MG</td>\n",
       "      <td>29</td>\n",
       "      <td>long</td>\n",
       "      <td>0.557</td>\n",
       "      <td>1</td>\n",
       "      <td>1.0</td>\n",
       "      <td>CTL</td>\n",
       "      <td>2.0</td>\n",
       "      <td>28.0</td>\n",
       "    </tr>\n",
       "    <tr>\n",
       "      <th>29</th>\n",
       "      <td>MG0006</td>\n",
       "      <td>MG</td>\n",
       "      <td>30</td>\n",
       "      <td>short</td>\n",
       "      <td>0.354</td>\n",
       "      <td>1</td>\n",
       "      <td>1.0</td>\n",
       "      <td>CTL</td>\n",
       "      <td>2.0</td>\n",
       "      <td>28.0</td>\n",
       "    </tr>\n",
       "    <tr>\n",
       "      <th>...</th>\n",
       "      <td>...</td>\n",
       "      <td>...</td>\n",
       "      <td>...</td>\n",
       "      <td>...</td>\n",
       "      <td>...</td>\n",
       "      <td>...</td>\n",
       "      <td>...</td>\n",
       "      <td>...</td>\n",
       "      <td>...</td>\n",
       "      <td>...</td>\n",
       "    </tr>\n",
       "    <tr>\n",
       "      <th>57990</th>\n",
       "      <td>TX0204</td>\n",
       "      <td>TX</td>\n",
       "      <td>170</td>\n",
       "      <td>short</td>\n",
       "      <td>0.830</td>\n",
       "      <td>0</td>\n",
       "      <td>2.0</td>\n",
       "      <td>MDD</td>\n",
       "      <td>1.0</td>\n",
       "      <td>29.0</td>\n",
       "    </tr>\n",
       "    <tr>\n",
       "      <th>57991</th>\n",
       "      <td>TX0204</td>\n",
       "      <td>TX</td>\n",
       "      <td>171</td>\n",
       "      <td>short</td>\n",
       "      <td>0.589</td>\n",
       "      <td>1</td>\n",
       "      <td>2.0</td>\n",
       "      <td>MDD</td>\n",
       "      <td>1.0</td>\n",
       "      <td>29.0</td>\n",
       "    </tr>\n",
       "    <tr>\n",
       "      <th>57992</th>\n",
       "      <td>TX0204</td>\n",
       "      <td>TX</td>\n",
       "      <td>172</td>\n",
       "      <td>long</td>\n",
       "      <td>1.019</td>\n",
       "      <td>0</td>\n",
       "      <td>2.0</td>\n",
       "      <td>MDD</td>\n",
       "      <td>1.0</td>\n",
       "      <td>29.0</td>\n",
       "    </tr>\n",
       "    <tr>\n",
       "      <th>57993</th>\n",
       "      <td>TX0204</td>\n",
       "      <td>TX</td>\n",
       "      <td>173</td>\n",
       "      <td>long</td>\n",
       "      <td>0.813</td>\n",
       "      <td>0</td>\n",
       "      <td>2.0</td>\n",
       "      <td>MDD</td>\n",
       "      <td>1.0</td>\n",
       "      <td>29.0</td>\n",
       "    </tr>\n",
       "    <tr>\n",
       "      <th>57994</th>\n",
       "      <td>TX0204</td>\n",
       "      <td>TX</td>\n",
       "      <td>174</td>\n",
       "      <td>long</td>\n",
       "      <td>0.701</td>\n",
       "      <td>1</td>\n",
       "      <td>2.0</td>\n",
       "      <td>MDD</td>\n",
       "      <td>1.0</td>\n",
       "      <td>29.0</td>\n",
       "    </tr>\n",
       "    <tr>\n",
       "      <th>57995</th>\n",
       "      <td>TX0204</td>\n",
       "      <td>TX</td>\n",
       "      <td>175</td>\n",
       "      <td>short</td>\n",
       "      <td>0.604</td>\n",
       "      <td>1</td>\n",
       "      <td>2.0</td>\n",
       "      <td>MDD</td>\n",
       "      <td>1.0</td>\n",
       "      <td>29.0</td>\n",
       "    </tr>\n",
       "    <tr>\n",
       "      <th>57996</th>\n",
       "      <td>TX0204</td>\n",
       "      <td>TX</td>\n",
       "      <td>176</td>\n",
       "      <td>short</td>\n",
       "      <td>1.003</td>\n",
       "      <td>1</td>\n",
       "      <td>2.0</td>\n",
       "      <td>MDD</td>\n",
       "      <td>1.0</td>\n",
       "      <td>29.0</td>\n",
       "    </tr>\n",
       "    <tr>\n",
       "      <th>57997</th>\n",
       "      <td>TX0204</td>\n",
       "      <td>TX</td>\n",
       "      <td>177</td>\n",
       "      <td>short</td>\n",
       "      <td>0.910</td>\n",
       "      <td>0</td>\n",
       "      <td>2.0</td>\n",
       "      <td>MDD</td>\n",
       "      <td>1.0</td>\n",
       "      <td>29.0</td>\n",
       "    </tr>\n",
       "    <tr>\n",
       "      <th>57998</th>\n",
       "      <td>TX0204</td>\n",
       "      <td>TX</td>\n",
       "      <td>178</td>\n",
       "      <td>long</td>\n",
       "      <td>0.686</td>\n",
       "      <td>1</td>\n",
       "      <td>2.0</td>\n",
       "      <td>MDD</td>\n",
       "      <td>1.0</td>\n",
       "      <td>29.0</td>\n",
       "    </tr>\n",
       "    <tr>\n",
       "      <th>57999</th>\n",
       "      <td>TX0204</td>\n",
       "      <td>TX</td>\n",
       "      <td>179</td>\n",
       "      <td>long</td>\n",
       "      <td>0.589</td>\n",
       "      <td>1</td>\n",
       "      <td>2.0</td>\n",
       "      <td>MDD</td>\n",
       "      <td>1.0</td>\n",
       "      <td>29.0</td>\n",
       "    </tr>\n",
       "    <tr>\n",
       "      <th>58000</th>\n",
       "      <td>TX0204</td>\n",
       "      <td>TX</td>\n",
       "      <td>180</td>\n",
       "      <td>long</td>\n",
       "      <td>0.764</td>\n",
       "      <td>1</td>\n",
       "      <td>2.0</td>\n",
       "      <td>MDD</td>\n",
       "      <td>1.0</td>\n",
       "      <td>29.0</td>\n",
       "    </tr>\n",
       "    <tr>\n",
       "      <th>58001</th>\n",
       "      <td>TX0204</td>\n",
       "      <td>TX</td>\n",
       "      <td>181</td>\n",
       "      <td>short</td>\n",
       "      <td>0.445</td>\n",
       "      <td>1</td>\n",
       "      <td>2.0</td>\n",
       "      <td>MDD</td>\n",
       "      <td>1.0</td>\n",
       "      <td>29.0</td>\n",
       "    </tr>\n",
       "    <tr>\n",
       "      <th>58002</th>\n",
       "      <td>TX0204</td>\n",
       "      <td>TX</td>\n",
       "      <td>182</td>\n",
       "      <td>short</td>\n",
       "      <td>1.180</td>\n",
       "      <td>1</td>\n",
       "      <td>2.0</td>\n",
       "      <td>MDD</td>\n",
       "      <td>1.0</td>\n",
       "      <td>29.0</td>\n",
       "    </tr>\n",
       "    <tr>\n",
       "      <th>58003</th>\n",
       "      <td>TX0204</td>\n",
       "      <td>TX</td>\n",
       "      <td>183</td>\n",
       "      <td>long</td>\n",
       "      <td>1.005</td>\n",
       "      <td>0</td>\n",
       "      <td>2.0</td>\n",
       "      <td>MDD</td>\n",
       "      <td>1.0</td>\n",
       "      <td>29.0</td>\n",
       "    </tr>\n",
       "    <tr>\n",
       "      <th>58004</th>\n",
       "      <td>TX0204</td>\n",
       "      <td>TX</td>\n",
       "      <td>184</td>\n",
       "      <td>short</td>\n",
       "      <td>0.670</td>\n",
       "      <td>1</td>\n",
       "      <td>2.0</td>\n",
       "      <td>MDD</td>\n",
       "      <td>1.0</td>\n",
       "      <td>29.0</td>\n",
       "    </tr>\n",
       "    <tr>\n",
       "      <th>58005</th>\n",
       "      <td>TX0204</td>\n",
       "      <td>TX</td>\n",
       "      <td>185</td>\n",
       "      <td>long</td>\n",
       "      <td>0.924</td>\n",
       "      <td>0</td>\n",
       "      <td>2.0</td>\n",
       "      <td>MDD</td>\n",
       "      <td>1.0</td>\n",
       "      <td>29.0</td>\n",
       "    </tr>\n",
       "    <tr>\n",
       "      <th>58006</th>\n",
       "      <td>TX0204</td>\n",
       "      <td>TX</td>\n",
       "      <td>186</td>\n",
       "      <td>short</td>\n",
       "      <td>0.700</td>\n",
       "      <td>1</td>\n",
       "      <td>2.0</td>\n",
       "      <td>MDD</td>\n",
       "      <td>1.0</td>\n",
       "      <td>29.0</td>\n",
       "    </tr>\n",
       "    <tr>\n",
       "      <th>58007</th>\n",
       "      <td>TX0204</td>\n",
       "      <td>TX</td>\n",
       "      <td>187</td>\n",
       "      <td>long</td>\n",
       "      <td>1.612</td>\n",
       "      <td>1</td>\n",
       "      <td>2.0</td>\n",
       "      <td>MDD</td>\n",
       "      <td>1.0</td>\n",
       "      <td>29.0</td>\n",
       "    </tr>\n",
       "    <tr>\n",
       "      <th>58008</th>\n",
       "      <td>TX0204</td>\n",
       "      <td>TX</td>\n",
       "      <td>188</td>\n",
       "      <td>long</td>\n",
       "      <td>1.149</td>\n",
       "      <td>1</td>\n",
       "      <td>2.0</td>\n",
       "      <td>MDD</td>\n",
       "      <td>1.0</td>\n",
       "      <td>29.0</td>\n",
       "    </tr>\n",
       "    <tr>\n",
       "      <th>58009</th>\n",
       "      <td>TX0204</td>\n",
       "      <td>TX</td>\n",
       "      <td>189</td>\n",
       "      <td>short</td>\n",
       "      <td>0.540</td>\n",
       "      <td>0</td>\n",
       "      <td>2.0</td>\n",
       "      <td>MDD</td>\n",
       "      <td>1.0</td>\n",
       "      <td>29.0</td>\n",
       "    </tr>\n",
       "    <tr>\n",
       "      <th>58010</th>\n",
       "      <td>TX0204</td>\n",
       "      <td>TX</td>\n",
       "      <td>190</td>\n",
       "      <td>long</td>\n",
       "      <td>0.881</td>\n",
       "      <td>1</td>\n",
       "      <td>2.0</td>\n",
       "      <td>MDD</td>\n",
       "      <td>1.0</td>\n",
       "      <td>29.0</td>\n",
       "    </tr>\n",
       "    <tr>\n",
       "      <th>58011</th>\n",
       "      <td>TX0204</td>\n",
       "      <td>TX</td>\n",
       "      <td>191</td>\n",
       "      <td>short</td>\n",
       "      <td>0.408</td>\n",
       "      <td>1</td>\n",
       "      <td>2.0</td>\n",
       "      <td>MDD</td>\n",
       "      <td>1.0</td>\n",
       "      <td>29.0</td>\n",
       "    </tr>\n",
       "    <tr>\n",
       "      <th>58012</th>\n",
       "      <td>TX0204</td>\n",
       "      <td>TX</td>\n",
       "      <td>192</td>\n",
       "      <td>long</td>\n",
       "      <td>1.339</td>\n",
       "      <td>0</td>\n",
       "      <td>2.0</td>\n",
       "      <td>MDD</td>\n",
       "      <td>1.0</td>\n",
       "      <td>29.0</td>\n",
       "    </tr>\n",
       "    <tr>\n",
       "      <th>58013</th>\n",
       "      <td>TX0204</td>\n",
       "      <td>TX</td>\n",
       "      <td>193</td>\n",
       "      <td>short</td>\n",
       "      <td>0.542</td>\n",
       "      <td>0</td>\n",
       "      <td>2.0</td>\n",
       "      <td>MDD</td>\n",
       "      <td>1.0</td>\n",
       "      <td>29.0</td>\n",
       "    </tr>\n",
       "    <tr>\n",
       "      <th>58014</th>\n",
       "      <td>TX0204</td>\n",
       "      <td>TX</td>\n",
       "      <td>195</td>\n",
       "      <td>long</td>\n",
       "      <td>0.732</td>\n",
       "      <td>0</td>\n",
       "      <td>2.0</td>\n",
       "      <td>MDD</td>\n",
       "      <td>1.0</td>\n",
       "      <td>29.0</td>\n",
       "    </tr>\n",
       "    <tr>\n",
       "      <th>58015</th>\n",
       "      <td>TX0204</td>\n",
       "      <td>TX</td>\n",
       "      <td>196</td>\n",
       "      <td>short</td>\n",
       "      <td>0.686</td>\n",
       "      <td>0</td>\n",
       "      <td>2.0</td>\n",
       "      <td>MDD</td>\n",
       "      <td>1.0</td>\n",
       "      <td>29.0</td>\n",
       "    </tr>\n",
       "    <tr>\n",
       "      <th>58016</th>\n",
       "      <td>TX0204</td>\n",
       "      <td>TX</td>\n",
       "      <td>197</td>\n",
       "      <td>long</td>\n",
       "      <td>0.365</td>\n",
       "      <td>1</td>\n",
       "      <td>2.0</td>\n",
       "      <td>MDD</td>\n",
       "      <td>1.0</td>\n",
       "      <td>29.0</td>\n",
       "    </tr>\n",
       "    <tr>\n",
       "      <th>58017</th>\n",
       "      <td>TX0204</td>\n",
       "      <td>TX</td>\n",
       "      <td>198</td>\n",
       "      <td>long</td>\n",
       "      <td>0.846</td>\n",
       "      <td>1</td>\n",
       "      <td>2.0</td>\n",
       "      <td>MDD</td>\n",
       "      <td>1.0</td>\n",
       "      <td>29.0</td>\n",
       "    </tr>\n",
       "    <tr>\n",
       "      <th>58018</th>\n",
       "      <td>TX0204</td>\n",
       "      <td>TX</td>\n",
       "      <td>199</td>\n",
       "      <td>short</td>\n",
       "      <td>0.414</td>\n",
       "      <td>1</td>\n",
       "      <td>2.0</td>\n",
       "      <td>MDD</td>\n",
       "      <td>1.0</td>\n",
       "      <td>29.0</td>\n",
       "    </tr>\n",
       "    <tr>\n",
       "      <th>58019</th>\n",
       "      <td>TX0204</td>\n",
       "      <td>TX</td>\n",
       "      <td>200</td>\n",
       "      <td>short</td>\n",
       "      <td>1.083</td>\n",
       "      <td>1</td>\n",
       "      <td>2.0</td>\n",
       "      <td>MDD</td>\n",
       "      <td>1.0</td>\n",
       "      <td>29.0</td>\n",
       "    </tr>\n",
       "  </tbody>\n",
       "</table>\n",
       "<p>58020 rows × 10 columns</p>\n",
       "</div>"
      ],
      "text/plain": [
       "      subj_idx site_x  trial length     rt  response  block feasibility  \\\n",
       "0       MG0006     MG      1  short  0.704         0    1.0         CTL   \n",
       "1       MG0006     MG      2   long  0.414         1    1.0         CTL   \n",
       "2       MG0006     MG      3  short  0.456         1    1.0         CTL   \n",
       "3       MG0006     MG      4   long  0.416         1    1.0         CTL   \n",
       "4       MG0006     MG      5  short  0.490         0    1.0         CTL   \n",
       "5       MG0006     MG      6  short  0.481         1    1.0         CTL   \n",
       "6       MG0006     MG      7  short  0.553         1    1.0         CTL   \n",
       "7       MG0006     MG      8   long  0.509         1    1.0         CTL   \n",
       "8       MG0006     MG      9  short  0.483         0    1.0         CTL   \n",
       "9       MG0006     MG     10  short  0.378         1    1.0         CTL   \n",
       "10      MG0006     MG     11   long  0.438         1    1.0         CTL   \n",
       "11      MG0006     MG     12  short  0.702         0    1.0         CTL   \n",
       "12      MG0006     MG     13   long  0.396         1    1.0         CTL   \n",
       "13      MG0006     MG     14  short  0.391         1    1.0         CTL   \n",
       "14      MG0006     MG     15   long  0.434         1    1.0         CTL   \n",
       "15      MG0006     MG     16   long  0.379         1    1.0         CTL   \n",
       "16      MG0006     MG     17  short  0.375         1    1.0         CTL   \n",
       "17      MG0006     MG     18  short  0.530         1    1.0         CTL   \n",
       "18      MG0006     MG     19  short  0.360         1    1.0         CTL   \n",
       "19      MG0006     MG     20   long  0.483         1    1.0         CTL   \n",
       "20      MG0006     MG     21   long  0.411         1    1.0         CTL   \n",
       "21      MG0006     MG     22  short  0.422         1    1.0         CTL   \n",
       "22      MG0006     MG     23   long  0.431         1    1.0         CTL   \n",
       "23      MG0006     MG     24  short  0.393         1    1.0         CTL   \n",
       "24      MG0006     MG     25   long  0.404         1    1.0         CTL   \n",
       "25      MG0006     MG     26   long  0.383         1    1.0         CTL   \n",
       "26      MG0006     MG     27   long  0.330         1    1.0         CTL   \n",
       "27      MG0006     MG     28  short  0.536         0    1.0         CTL   \n",
       "28      MG0006     MG     29   long  0.557         1    1.0         CTL   \n",
       "29      MG0006     MG     30  short  0.354         1    1.0         CTL   \n",
       "...        ...    ...    ...    ...    ...       ...    ...         ...   \n",
       "57990   TX0204     TX    170  short  0.830         0    2.0         MDD   \n",
       "57991   TX0204     TX    171  short  0.589         1    2.0         MDD   \n",
       "57992   TX0204     TX    172   long  1.019         0    2.0         MDD   \n",
       "57993   TX0204     TX    173   long  0.813         0    2.0         MDD   \n",
       "57994   TX0204     TX    174   long  0.701         1    2.0         MDD   \n",
       "57995   TX0204     TX    175  short  0.604         1    2.0         MDD   \n",
       "57996   TX0204     TX    176  short  1.003         1    2.0         MDD   \n",
       "57997   TX0204     TX    177  short  0.910         0    2.0         MDD   \n",
       "57998   TX0204     TX    178   long  0.686         1    2.0         MDD   \n",
       "57999   TX0204     TX    179   long  0.589         1    2.0         MDD   \n",
       "58000   TX0204     TX    180   long  0.764         1    2.0         MDD   \n",
       "58001   TX0204     TX    181  short  0.445         1    2.0         MDD   \n",
       "58002   TX0204     TX    182  short  1.180         1    2.0         MDD   \n",
       "58003   TX0204     TX    183   long  1.005         0    2.0         MDD   \n",
       "58004   TX0204     TX    184  short  0.670         1    2.0         MDD   \n",
       "58005   TX0204     TX    185   long  0.924         0    2.0         MDD   \n",
       "58006   TX0204     TX    186  short  0.700         1    2.0         MDD   \n",
       "58007   TX0204     TX    187   long  1.612         1    2.0         MDD   \n",
       "58008   TX0204     TX    188   long  1.149         1    2.0         MDD   \n",
       "58009   TX0204     TX    189  short  0.540         0    2.0         MDD   \n",
       "58010   TX0204     TX    190   long  0.881         1    2.0         MDD   \n",
       "58011   TX0204     TX    191  short  0.408         1    2.0         MDD   \n",
       "58012   TX0204     TX    192   long  1.339         0    2.0         MDD   \n",
       "58013   TX0204     TX    193  short  0.542         0    2.0         MDD   \n",
       "58014   TX0204     TX    195   long  0.732         0    2.0         MDD   \n",
       "58015   TX0204     TX    196  short  0.686         0    2.0         MDD   \n",
       "58016   TX0204     TX    197   long  0.365         1    2.0         MDD   \n",
       "58017   TX0204     TX    198   long  0.846         1    2.0         MDD   \n",
       "58018   TX0204     TX    199  short  0.414         1    2.0         MDD   \n",
       "58019   TX0204     TX    200  short  1.083         1    2.0         MDD   \n",
       "\n",
       "       shaps_total_dichotomous  shaps_total_continuous  \n",
       "0                          2.0                    28.0  \n",
       "1                          2.0                    28.0  \n",
       "2                          2.0                    28.0  \n",
       "3                          2.0                    28.0  \n",
       "4                          2.0                    28.0  \n",
       "5                          2.0                    28.0  \n",
       "6                          2.0                    28.0  \n",
       "7                          2.0                    28.0  \n",
       "8                          2.0                    28.0  \n",
       "9                          2.0                    28.0  \n",
       "10                         2.0                    28.0  \n",
       "11                         2.0                    28.0  \n",
       "12                         2.0                    28.0  \n",
       "13                         2.0                    28.0  \n",
       "14                         2.0                    28.0  \n",
       "15                         2.0                    28.0  \n",
       "16                         2.0                    28.0  \n",
       "17                         2.0                    28.0  \n",
       "18                         2.0                    28.0  \n",
       "19                         2.0                    28.0  \n",
       "20                         2.0                    28.0  \n",
       "21                         2.0                    28.0  \n",
       "22                         2.0                    28.0  \n",
       "23                         2.0                    28.0  \n",
       "24                         2.0                    28.0  \n",
       "25                         2.0                    28.0  \n",
       "26                         2.0                    28.0  \n",
       "27                         2.0                    28.0  \n",
       "28                         2.0                    28.0  \n",
       "29                         2.0                    28.0  \n",
       "...                        ...                     ...  \n",
       "57990                      1.0                    29.0  \n",
       "57991                      1.0                    29.0  \n",
       "57992                      1.0                    29.0  \n",
       "57993                      1.0                    29.0  \n",
       "57994                      1.0                    29.0  \n",
       "57995                      1.0                    29.0  \n",
       "57996                      1.0                    29.0  \n",
       "57997                      1.0                    29.0  \n",
       "57998                      1.0                    29.0  \n",
       "57999                      1.0                    29.0  \n",
       "58000                      1.0                    29.0  \n",
       "58001                      1.0                    29.0  \n",
       "58002                      1.0                    29.0  \n",
       "58003                      1.0                    29.0  \n",
       "58004                      1.0                    29.0  \n",
       "58005                      1.0                    29.0  \n",
       "58006                      1.0                    29.0  \n",
       "58007                      1.0                    29.0  \n",
       "58008                      1.0                    29.0  \n",
       "58009                      1.0                    29.0  \n",
       "58010                      1.0                    29.0  \n",
       "58011                      1.0                    29.0  \n",
       "58012                      1.0                    29.0  \n",
       "58013                      1.0                    29.0  \n",
       "58014                      1.0                    29.0  \n",
       "58015                      1.0                    29.0  \n",
       "58016                      1.0                    29.0  \n",
       "58017                      1.0                    29.0  \n",
       "58018                      1.0                    29.0  \n",
       "58019                      1.0                    29.0  \n",
       "\n",
       "[58020 rows x 10 columns]"
      ]
     },
     "execution_count": 37,
     "metadata": {},
     "output_type": "execute_result"
    }
   ],
   "source": [
    "full_model = hddm.load_csv('Data/prt_trial_compact.csv')\n",
    "full_model['rt'] = full_model['rt'] / 1000\n",
    "del full_model['Unnamed: 0']\n",
    "del full_model['outlier']\n",
    "m_full_model = hddm.HDDMRegressor(full_model, ['v ~ 0 + feasibilty*length*block', 'a ~ 0 + feasibility*length*block'])\n",
    "m_full_model.sample(1000, burn=100)"
   ]
  },
  {
   "cell_type": "code",
   "execution_count": null,
   "metadata": {
    "collapsed": true
   },
   "outputs": [],
   "source": []
  }
 ],
 "metadata": {
  "anaconda-cloud": {},
  "kernelspec": {
   "display_name": "Python [default]",
   "language": "python",
   "name": "python3"
  },
  "language_info": {
   "codemirror_mode": {
    "name": "ipython",
    "version": 3
   },
   "file_extension": ".py",
   "mimetype": "text/x-python",
   "name": "python",
   "nbconvert_exporter": "python",
   "pygments_lexer": "ipython3",
   "version": "3.5.2"
  }
 },
 "nbformat": 4,
 "nbformat_minor": 1
}
