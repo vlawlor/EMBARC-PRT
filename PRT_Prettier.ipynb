{
 "cells": [
  {
   "cell_type": "code",
   "execution_count": 297,
   "metadata": {
    "collapsed": false
   },
   "outputs": [],
   "source": [
    "import pandas as pd\n",
    "import matplotlib.pyplot as plt\n",
    "import re\n",
    "import mmap\n",
    "import os"
   ]
  },
  {
   "cell_type": "code",
   "execution_count": 298,
   "metadata": {
    "collapsed": false
   },
   "outputs": [],
   "source": [
    "uname = !whoami\n",
    "uname = uname[0]"
   ]
  },
  {
   "cell_type": "code",
   "execution_count": 299,
   "metadata": {
    "collapsed": false
   },
   "outputs": [],
   "source": [
    "# Names of the temporary directories (sl for slash)\n",
    "mgtemp = '/Users/'+ uname +'/Work/Expts/EMBARC/Data/PRT/Massachusetts/MGTemp'\n",
    "mgtempsl = mgtemp + '/'\n",
    "umtemp = '/Users/'+ uname +'/Work/Expts/EMBARC/Data/PRT/Michigan/UMTemp'\n",
    "umtempsl = umtemp + '/'\n",
    "cutemp = '/Users/'+ uname +'/Work/Expts/EMBARC/Data/PRT/New_York/CUTemp'\n",
    "cutempsl = cutemp + '/'\n",
    "txtemp = '/Users/'+ uname +'/Work/Expts/EMBARC/Data/PRT/Texas/TXTemp'\n",
    "txtempsl = txtemp + '/'\n",
    "\n",
    "# Makes all of the temporary directories\n",
    "!mkdir {mgtemp}\n",
    "!mkdir {umtemp}\n",
    "!mkdir {cutemp}\n",
    "!mkdir {txtemp}"
   ]
  },
  {
   "cell_type": "code",
   "execution_count": 300,
   "metadata": {
    "collapsed": false
   },
   "outputs": [],
   "source": [
    "mg = '/Users/'+ uname +'/Work/Expts/EMBARC/Data/PRT/Massachusetts/embarc_CU_MG0*'\n",
    "um = '/Users/'+ uname +'/Work/Expts/EMBARC/Data/PRT/Michigan/embarc_CU_UM0*'\n",
    "cu = '/Users/'+ uname +'/Work/Expts/EMBARC/Data/PRT/New_York/embarc_CU_CU0*'\n",
    "tx = '/Users/'+ uname +'/Work/Expts/EMBARC/Data/PRT/Texas/embarc_CU_TX0*'\n",
    "\n",
    "# the data files in the folder\n",
    "mgfolders = !ls -d {mg}\n",
    "umfolders = !ls -d {um}\n",
    "cufolders = !ls -d {cu}\n",
    "txfolders = !ls -d {tx}"
   ]
  },
  {
   "cell_type": "code",
   "execution_count": 301,
   "metadata": {
    "collapsed": true
   },
   "outputs": [],
   "source": [
    "# takes in the list of folders in the state, the temp file, and what to split the name by\n",
    "def grabdata(statefolders, temp, split_by):\n",
    "    for folder in statefolders:\n",
    "        sub = folder.split('_')[split_by]\n",
    "        new_name = sub + '_out.txt'\n",
    "        new_dir = temp + new_name\n",
    "        !cp {folder}/done/sigdet_output*out {new_dir}"
   ]
  },
  {
   "cell_type": "code",
   "execution_count": 302,
   "metadata": {
    "collapsed": false,
    "scrolled": false
   },
   "outputs": [
    {
     "name": "stdout",
     "output_type": "stream",
     "text": [
      "cp: /Users/mlm2/Work/Expts/EMBARC/Data/PRT/Massachusetts/embarc_CU_MG0026MGBP1R1_flankerprt_20121208/done/sigdet_output*out: No such file or directory\n",
      "cp: /Users/mlm2/Work/Expts/EMBARC/Data/PRT/Michigan/embarc_CU_UM0012UMBP1R1_flankerprt_20120628/done/sigdet_output*out: No such file or directory\n",
      "cp: /Users/mlm2/Work/Expts/EMBARC/Data/PRT/Michigan/embarc_CU_UM0094UMBP1R1_flankerprt_20141113/done/sigdet_output*out: No such file or directory\n",
      "cp: /Users/mlm2/Work/Expts/EMBARC/Data/PRT/New_York/embarc_CU_CU0012CUBP1R1_flankerprt_20120515/done/sigdet_output*out: No such file or directory\n",
      "cp: /Users/mlm2/Work/Expts/EMBARC/Data/PRT/New_York/embarc_CU_CU0012CUBP1R1_flankerprt_20130308/done/sigdet_output*out: No such file or directory\n",
      "cp: /Users/mlm2/Work/Expts/EMBARC/Data/PRT/New_York/embarc_CU_CU0017UMBP1R1_flankerprt_20120608/done/sigdet_output*out: No such file or directory\n",
      "cp: /Users/mlm2/Work/Expts/EMBARC/Data/PRT/New_York/embarc_CU_CU0018CUBP1R1_flankerprt_20120515/done/sigdet_output*out: No such file or directory\n",
      "cp: /Users/mlm2/Work/Expts/EMBARC/Data/PRT/New_York/embarc_CU_CU0019CUBP1R1_flankerprt_20120614/done/sigdet_output*out: No such file or directory\n",
      "cp: /Users/mlm2/Work/Expts/EMBARC/Data/PRT/Texas/embarc_CU_TX0033TXBP1R1_flankerprt_20120721/done/sigdet_output*out: No such file or directory\n"
     ]
    }
   ],
   "source": [
    "# grabs the data for all state folders\n",
    "# output lists people who don't have the data folder\n",
    "grabdata(mgfolders, mgtempsl, 2)\n",
    "grabdata(umfolders, umtempsl, 2)\n",
    "grabdata(cufolders, cutempsl, 3)\n",
    "grabdata(txfolders, txtempsl, 2)\n"
   ]
  },
  {
   "cell_type": "code",
   "execution_count": 303,
   "metadata": {
    "collapsed": true
   },
   "outputs": [],
   "source": [
    "# for easier referencing \n",
    "cusplit = '/Users/'+ uname +'/Work/Expts/EMBARC/Data/PRT/New_York/CUSplit/'\n",
    "mgsplit = '/Users/'+ uname +'/Work/Expts/EMBARC/Data/PRT/Massachusetts/MGSplit/'\n",
    "umsplit = '/Users/'+ uname +'/Work/Expts/EMBARC/Data/PRT/Michigan/UMSplit/'\n",
    "txsplit = '/Users/'+ uname +'/Work/Expts/EMBARC/Data/PRT/Texas/TXSplit/'\n",
    "\n",
    "cufinal = '/Users/'+ uname +'/Work/Expts/EMBARC/Data/PRT/New_York/CUFinal/'\n",
    "mgfinal = '/Users/'+ uname +'/Work/Expts/EMBARC/Data/PRT/Massachusetts/MGFinal/'\n",
    "umfinal = '/Users/'+ uname +'/Work/Expts/EMBARC/Data/PRT/Michigan/UMFinal/'\n",
    "txfinal = '/Users/'+ uname +'/Work/Expts/EMBARC/Data/PRT/Texas/TXFinal/'"
   ]
  },
  {
   "cell_type": "code",
   "execution_count": 304,
   "metadata": {
    "collapsed": false
   },
   "outputs": [],
   "source": [
    "# Makes the directories where the split data files will go\n",
    "!mkdir {cusplit}\n",
    "!mkdir {mgsplit}\n",
    "!mkdir {umsplit}\n",
    "!mkdir {txsplit}\n",
    "\n",
    "# Makes the directories where the final data files will go\n",
    "!mkdir {cufinal}\n",
    "!mkdir {mgfinal}\n",
    "!mkdir {umfinal}\n",
    "!mkdir {txfinal}"
   ]
  },
  {
   "cell_type": "code",
   "execution_count": 305,
   "metadata": {
    "collapsed": false
   },
   "outputs": [],
   "source": [
    "# finds the given key in this file\n",
    "def findmatch(key, split_by, tempsl, filename):\n",
    "    rx=r''+key+'(.*)'\n",
    "    f = open(tempsl + filename, 'r', encoding='windows-1252')\n",
    "    for eachline in f:\n",
    "        string=re.match(rx, eachline)\n",
    "        if string:\n",
    "            return (string.group().split(' ')[split_by])\n",
    "    else:\n",
    "        return ''\n"
   ]
  },
  {
   "cell_type": "code",
   "execution_count": 306,
   "metadata": {
    "collapsed": false
   },
   "outputs": [],
   "source": [
    "def main(temp, tempsl, split, final, loc):\n",
    "    for filename in os.listdir(temp):\n",
    "        \n",
    "        #searching for matches in the original file\n",
    "        richkey = findmatch('Rich', 2, tempsl, filename)\n",
    "        leankey = findmatch('Lean key: ', 2, tempsl, filename)\n",
    "        subid = findmatch('Subject ID: ', 2, tempsl, filename)\n",
    "        date = findmatch('Date: ', 1, tempsl, filename)\n",
    "        bias = findmatch('Bias: ', 1, tempsl, filename)\n",
    "        richstim = findmatch('Rich stimulus: ', 2,  tempsl, filename)\n",
    "        leanstim = findmatch('Lean stimulus: ', 2, tempsl, filename)\n",
    "        newfile = open(tempsl + filename, 'r', encoding='windows-1252').read().split('\\n\\n\\n')\n",
    "        sub = filename.split('_')[0]\n",
    "        names = [ 'X' + sub +'_info.txt', sub +'.txt']\n",
    "        \n",
    "        #splits the the file into two, saves the data one in split folder\n",
    "        for num, file in enumerate(newfile):\n",
    "            open(split + names[1],'w').write(file)\n",
    "        \n",
    "        #open as df, add the info from the regular expression portion to the df, save as csv\n",
    "        try:\n",
    "            df = pd.read_csv(split + sub +'.txt', '\\t')\n",
    "            df[\"ID\"]= loc + subid\n",
    "            df['Site']= loc\n",
    "            df['Date']= date\n",
    "            df['Bias']= bias \n",
    "            df['RichStim']= richstim\n",
    "            df['LeanStim']= leanstim\n",
    "            df['LeanKey']= leankey\n",
    "            df['RichKey']= richkey\n",
    "            df.to_csv(final + sub + '.csv')\n",
    "        except:\n",
    "            pass\n",
    "        "
   ]
  },
  {
   "cell_type": "code",
   "execution_count": 307,
   "metadata": {
    "collapsed": false
   },
   "outputs": [],
   "source": [
    "# pass all state files to the main function\n",
    "main(umtemp, umtempsl, umsplit, umfinal, 'UM')\n",
    "main(mgtemp, mgtempsl, mgsplit, mgfinal, 'MG')\n",
    "main(cutemp, cutempsl, cusplit, cufinal, 'CU')\n",
    "main(txtemp, txtempsl, txsplit, txfinal, 'TX')"
   ]
  },
  {
   "cell_type": "code",
   "execution_count": null,
   "metadata": {
    "collapsed": true
   },
   "outputs": [],
   "source": []
  }
 ],
 "metadata": {
  "anaconda-cloud": {},
  "kernelspec": {
   "display_name": "Python [default]",
   "language": "python",
   "name": "python3"
  },
  "language_info": {
   "codemirror_mode": {
    "name": "ipython",
    "version": 3
   },
   "file_extension": ".py",
   "mimetype": "text/x-python",
   "name": "python",
   "nbconvert_exporter": "python",
   "pygments_lexer": "ipython3",
   "version": "3.5.2"
  }
 },
 "nbformat": 4,
 "nbformat_minor": 1
}
