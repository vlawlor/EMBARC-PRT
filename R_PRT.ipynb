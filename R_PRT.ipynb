{
 "cells": [
  {
   "cell_type": "code",
   "execution_count": 18,
   "metadata": {
    "collapsed": false,
    "scrolled": false
   },
   "outputs": [
    {
     "name": "stderr",
     "output_type": "stream",
     "text": [
      "also installing the dependencies ‘TH.data’, ‘sandwich’, ‘estimability’, ‘coda’, ‘multcomp’, ‘mvtnorm’, ‘modeltools’, ‘lsmeans’, ‘coin’\n",
      "\n",
      "Updating HTML index of packages in '.Library'\n",
      "Making 'packages.html' ... done\n"
     ]
    }
   ],
   "source": [
    "# Only need to do this once...\n",
    "# install.packages('afex','/Users/mlm2/anaconda/lib/R/library')"
   ]
  },
  {
   "cell_type": "code",
   "execution_count": 21,
   "metadata": {
    "collapsed": false,
    "scrolled": false
   },
   "outputs": [
    {
     "name": "stderr",
     "output_type": "stream",
     "text": [
      "Loading required package: lme4\n",
      "Loading required package: Matrix\n",
      "Loading required package: reshape2\n",
      "Loading required package: lsmeans\n",
      "Loading required package: estimability\n",
      "************\n",
      "Welcome to afex. Important changes in the current version:\n",
      "- Functions for ANOVAs have been renamed to: aov_car(), aov_ez(), and aov_4().\n",
      "- ANOVA functions return an object of class 'afex_aov' as default, see: ?aov_car\n",
      "- 'afex_aov' objects can be passed to lsmeans for contrasts and follow-up tests.\n",
      "- Reset previous (faster) behavior via: afex_options(return_aov='nice')\n",
      "- Many more arguments can now be set globally via options, see: afex_options()\n",
      "************\n"
     ]
    }
   ],
   "source": [
    "library(afex)"
   ]
  },
  {
   "cell_type": "code",
   "execution_count": 19,
   "metadata": {
    "collapsed": true
   },
   "outputs": [],
   "source": [
    "# load in trial level data\n",
    "df_trial_merged = read.csv('all_trial_first_session_cleaned_merged.csv')"
   ]
  },
  {
   "cell_type": "code",
   "execution_count": 26,
   "metadata": {
    "collapsed": true
   },
   "outputs": [],
   "source": [
    "# load in \"standard\" data\n",
    "df_first_sess = read.csv('embarc_standard_first_session_clean.csv')"
   ]
  },
  {
   "cell_type": "code",
   "execution_count": 4,
   "metadata": {
    "collapsed": false
   },
   "outputs": [
    {
     "data": {
      "text/html": [
       "<table>\n",
       "<thead><tr><th scope=col>X</th><th scope=col>subj_idx</th><th scope=col>site_x</th><th scope=col>subject_x</th><th scope=col>date</th><th scope=col>bias</th><th scope=col>rich_stim</th><th scope=col>lean_stim</th><th scope=col>rich_key</th><th scope=col>lean_key</th><th scope=col>⋯</th><th scope=col>conmed_11</th><th scope=col>conmed_06</th><th scope=col>conmed_01</th><th scope=col>partic_age</th><th scope=col>partic_gender</th><th scope=col>masq2_29</th><th scope=col>hamd_09</th><th scope=col>ID_date</th><th scope=col>rt_num</th><th scope=col>response_num</th></tr></thead>\n",
       "<tbody>\n",
       "\t<tr><td>2000           </td><td>MG0006         </td><td>MG             </td><td>6              </td><td>4/24/2012      </td><td>short          </td><td>short          </td><td>long           </td><td>c              </td><td>m              </td><td>⋯              </td><td>               </td><td>               </td><td>               </td><td>57             </td><td>Female         </td><td>2              </td><td>0              </td><td>MG00064_24_2012</td><td>704            </td><td>0              </td></tr>\n",
       "\t<tr><td>2001           </td><td>MG0006         </td><td>MG             </td><td>6              </td><td>4/24/2012      </td><td>short          </td><td>short          </td><td>long           </td><td>c              </td><td>m              </td><td>⋯              </td><td>               </td><td>               </td><td>               </td><td>57             </td><td>Female         </td><td>2              </td><td>0              </td><td>MG00064_24_2012</td><td>414            </td><td>1              </td></tr>\n",
       "\t<tr><td>2002           </td><td>MG0006         </td><td>MG             </td><td>6              </td><td>4/24/2012      </td><td>short          </td><td>short          </td><td>long           </td><td>c              </td><td>m              </td><td>⋯              </td><td>               </td><td>               </td><td>               </td><td>57             </td><td>Female         </td><td>2              </td><td>0              </td><td>MG00064_24_2012</td><td>456            </td><td>1              </td></tr>\n",
       "\t<tr><td>2003           </td><td>MG0006         </td><td>MG             </td><td>6              </td><td>4/24/2012      </td><td>short          </td><td>short          </td><td>long           </td><td>c              </td><td>m              </td><td>⋯              </td><td>               </td><td>               </td><td>               </td><td>57             </td><td>Female         </td><td>2              </td><td>0              </td><td>MG00064_24_2012</td><td>416            </td><td>1              </td></tr>\n",
       "\t<tr><td>2004           </td><td>MG0006         </td><td>MG             </td><td>6              </td><td>4/24/2012      </td><td>short          </td><td>short          </td><td>long           </td><td>c              </td><td>m              </td><td>⋯              </td><td>               </td><td>               </td><td>               </td><td>57             </td><td>Female         </td><td>2              </td><td>0              </td><td>MG00064_24_2012</td><td>490            </td><td>0              </td></tr>\n",
       "\t<tr><td>2005           </td><td>MG0006         </td><td>MG             </td><td>6              </td><td>4/24/2012      </td><td>short          </td><td>short          </td><td>long           </td><td>c              </td><td>m              </td><td>⋯              </td><td>               </td><td>               </td><td>               </td><td>57             </td><td>Female         </td><td>2              </td><td>0              </td><td>MG00064_24_2012</td><td>481            </td><td>1              </td></tr>\n",
       "\t<tr><td>2006           </td><td>MG0006         </td><td>MG             </td><td>6              </td><td>4/24/2012      </td><td>short          </td><td>short          </td><td>long           </td><td>c              </td><td>m              </td><td>⋯              </td><td>               </td><td>               </td><td>               </td><td>57             </td><td>Female         </td><td>2              </td><td>0              </td><td>MG00064_24_2012</td><td>553            </td><td>1              </td></tr>\n",
       "\t<tr><td>2007           </td><td>MG0006         </td><td>MG             </td><td>6              </td><td>4/24/2012      </td><td>short          </td><td>short          </td><td>long           </td><td>c              </td><td>m              </td><td>⋯              </td><td>               </td><td>               </td><td>               </td><td>57             </td><td>Female         </td><td>2              </td><td>0              </td><td>MG00064_24_2012</td><td>509            </td><td>1              </td></tr>\n",
       "\t<tr><td>2008           </td><td>MG0006         </td><td>MG             </td><td>6              </td><td>4/24/2012      </td><td>short          </td><td>short          </td><td>long           </td><td>c              </td><td>m              </td><td>⋯              </td><td>               </td><td>               </td><td>               </td><td>57             </td><td>Female         </td><td>2              </td><td>0              </td><td>MG00064_24_2012</td><td>483            </td><td>0              </td></tr>\n",
       "\t<tr><td>2009           </td><td>MG0006         </td><td>MG             </td><td>6              </td><td>4/24/2012      </td><td>short          </td><td>short          </td><td>long           </td><td>c              </td><td>m              </td><td>⋯              </td><td>               </td><td>               </td><td>               </td><td>57             </td><td>Female         </td><td>2              </td><td>0              </td><td>MG00064_24_2012</td><td>378            </td><td>1              </td></tr>\n",
       "</tbody>\n",
       "</table>\n"
      ],
      "text/latex": [
       "\\begin{tabular}{r|lllllllllllllllllllllllllllllllllllllllllllllllllllllllllllllllllllllllllllllllllllllllllllllllllllllllllllllllllllllllllllllllllllllllllllllll}\n",
       " X & subj\\_idx & site\\_x & subject\\_x & date & bias & rich\\_stim & lean\\_stim & rich\\_key & lean\\_key & ⋯ & conmed\\_11 & conmed\\_06 & conmed\\_01 & partic\\_age & partic\\_gender & masq2\\_29 & hamd\\_09 & ID\\_date & rt\\_num & response\\_num\\\\\n",
       "\\hline\n",
       "\t 2000                & MG0006              & MG                  & 6                   & 4/24/2012           & short               & short               & long                & c                   & m                   & ⋯                   &                     &                     &                     & 57                  & Female              & 2                   & 0                   & MG00064\\_24\\_2012 & 704                 & 0                  \\\\\n",
       "\t 2001                & MG0006              & MG                  & 6                   & 4/24/2012           & short               & short               & long                & c                   & m                   & ⋯                   &                     &                     &                     & 57                  & Female              & 2                   & 0                   & MG00064\\_24\\_2012 & 414                 & 1                  \\\\\n",
       "\t 2002                & MG0006              & MG                  & 6                   & 4/24/2012           & short               & short               & long                & c                   & m                   & ⋯                   &                     &                     &                     & 57                  & Female              & 2                   & 0                   & MG00064\\_24\\_2012 & 456                 & 1                  \\\\\n",
       "\t 2003                & MG0006              & MG                  & 6                   & 4/24/2012           & short               & short               & long                & c                   & m                   & ⋯                   &                     &                     &                     & 57                  & Female              & 2                   & 0                   & MG00064\\_24\\_2012 & 416                 & 1                  \\\\\n",
       "\t 2004                & MG0006              & MG                  & 6                   & 4/24/2012           & short               & short               & long                & c                   & m                   & ⋯                   &                     &                     &                     & 57                  & Female              & 2                   & 0                   & MG00064\\_24\\_2012 & 490                 & 0                  \\\\\n",
       "\t 2005                & MG0006              & MG                  & 6                   & 4/24/2012           & short               & short               & long                & c                   & m                   & ⋯                   &                     &                     &                     & 57                  & Female              & 2                   & 0                   & MG00064\\_24\\_2012 & 481                 & 1                  \\\\\n",
       "\t 2006                & MG0006              & MG                  & 6                   & 4/24/2012           & short               & short               & long                & c                   & m                   & ⋯                   &                     &                     &                     & 57                  & Female              & 2                   & 0                   & MG00064\\_24\\_2012 & 553                 & 1                  \\\\\n",
       "\t 2007                & MG0006              & MG                  & 6                   & 4/24/2012           & short               & short               & long                & c                   & m                   & ⋯                   &                     &                     &                     & 57                  & Female              & 2                   & 0                   & MG00064\\_24\\_2012 & 509                 & 1                  \\\\\n",
       "\t 2008                & MG0006              & MG                  & 6                   & 4/24/2012           & short               & short               & long                & c                   & m                   & ⋯                   &                     &                     &                     & 57                  & Female              & 2                   & 0                   & MG00064\\_24\\_2012 & 483                 & 0                  \\\\\n",
       "\t 2009                & MG0006              & MG                  & 6                   & 4/24/2012           & short               & short               & long                & c                   & m                   & ⋯                   &                     &                     &                     & 57                  & Female              & 2                   & 0                   & MG00064\\_24\\_2012 & 378                 & 1                  \\\\\n",
       "\\end{tabular}\n"
      ],
      "text/markdown": [
       "\n",
       "X | subj_idx | site_x | subject_x | date | bias | rich_stim | lean_stim | rich_key | lean_key | ⋯ | conmed_11 | conmed_06 | conmed_01 | partic_age | partic_gender | masq2_29 | hamd_09 | ID_date | rt_num | response_num | \n",
       "|---|---|---|---|---|---|---|---|---|---|\n",
       "| 2000            | MG0006          | MG              | 6               | 4/24/2012       | short           | short           | long            | c               | m               | ⋯               |                 |                 |                 | 57              | Female          | 2               | 0               | MG00064_24_2012 | 704             | 0               | \n",
       "| 2001            | MG0006          | MG              | 6               | 4/24/2012       | short           | short           | long            | c               | m               | ⋯               |                 |                 |                 | 57              | Female          | 2               | 0               | MG00064_24_2012 | 414             | 1               | \n",
       "| 2002            | MG0006          | MG              | 6               | 4/24/2012       | short           | short           | long            | c               | m               | ⋯               |                 |                 |                 | 57              | Female          | 2               | 0               | MG00064_24_2012 | 456             | 1               | \n",
       "| 2003            | MG0006          | MG              | 6               | 4/24/2012       | short           | short           | long            | c               | m               | ⋯               |                 |                 |                 | 57              | Female          | 2               | 0               | MG00064_24_2012 | 416             | 1               | \n",
       "| 2004            | MG0006          | MG              | 6               | 4/24/2012       | short           | short           | long            | c               | m               | ⋯               |                 |                 |                 | 57              | Female          | 2               | 0               | MG00064_24_2012 | 490             | 0               | \n",
       "| 2005            | MG0006          | MG              | 6               | 4/24/2012       | short           | short           | long            | c               | m               | ⋯               |                 |                 |                 | 57              | Female          | 2               | 0               | MG00064_24_2012 | 481             | 1               | \n",
       "| 2006            | MG0006          | MG              | 6               | 4/24/2012       | short           | short           | long            | c               | m               | ⋯               |                 |                 |                 | 57              | Female          | 2               | 0               | MG00064_24_2012 | 553             | 1               | \n",
       "| 2007            | MG0006          | MG              | 6               | 4/24/2012       | short           | short           | long            | c               | m               | ⋯               |                 |                 |                 | 57              | Female          | 2               | 0               | MG00064_24_2012 | 509             | 1               | \n",
       "| 2008            | MG0006          | MG              | 6               | 4/24/2012       | short           | short           | long            | c               | m               | ⋯               |                 |                 |                 | 57              | Female          | 2               | 0               | MG00064_24_2012 | 483             | 0               | \n",
       "| 2009            | MG0006          | MG              | 6               | 4/24/2012       | short           | short           | long            | c               | m               | ⋯               |                 |                 |                 | 57              | Female          | 2               | 0               | MG00064_24_2012 | 378             | 1               | \n",
       "\n",
       "\n"
      ],
      "text/plain": [
       "   X    subj_idx site_x subject_x date      bias  rich_stim lean_stim rich_key\n",
       "1  2000 MG0006   MG     6         4/24/2012 short short     long      c       \n",
       "2  2001 MG0006   MG     6         4/24/2012 short short     long      c       \n",
       "3  2002 MG0006   MG     6         4/24/2012 short short     long      c       \n",
       "4  2003 MG0006   MG     6         4/24/2012 short short     long      c       \n",
       "5  2004 MG0006   MG     6         4/24/2012 short short     long      c       \n",
       "6  2005 MG0006   MG     6         4/24/2012 short short     long      c       \n",
       "7  2006 MG0006   MG     6         4/24/2012 short short     long      c       \n",
       "8  2007 MG0006   MG     6         4/24/2012 short short     long      c       \n",
       "9  2008 MG0006   MG     6         4/24/2012 short short     long      c       \n",
       "10 2009 MG0006   MG     6         4/24/2012 short short     long      c       \n",
       "   lean_key ⋯ conmed_11 conmed_06 conmed_01 partic_age partic_gender masq2_29\n",
       "1  m        ⋯                               57         Female        2       \n",
       "2  m        ⋯                               57         Female        2       \n",
       "3  m        ⋯                               57         Female        2       \n",
       "4  m        ⋯                               57         Female        2       \n",
       "5  m        ⋯                               57         Female        2       \n",
       "6  m        ⋯                               57         Female        2       \n",
       "7  m        ⋯                               57         Female        2       \n",
       "8  m        ⋯                               57         Female        2       \n",
       "9  m        ⋯                               57         Female        2       \n",
       "10 m        ⋯                               57         Female        2       \n",
       "   hamd_09 ID_date         rt_num response_num\n",
       "1  0       MG00064_24_2012 704    0           \n",
       "2  0       MG00064_24_2012 414    1           \n",
       "3  0       MG00064_24_2012 456    1           \n",
       "4  0       MG00064_24_2012 416    1           \n",
       "5  0       MG00064_24_2012 490    0           \n",
       "6  0       MG00064_24_2012 481    1           \n",
       "7  0       MG00064_24_2012 553    1           \n",
       "8  0       MG00064_24_2012 509    1           \n",
       "9  0       MG00064_24_2012 483    0           \n",
       "10 0       MG00064_24_2012 378    1           "
      ]
     },
     "metadata": {},
     "output_type": "display_data"
    }
   ],
   "source": [
    "head(df_trial_merged, n=10)"
   ]
  },
  {
   "cell_type": "markdown",
   "metadata": {},
   "source": [
    "**Reaction time**"
   ]
  },
  {
   "cell_type": "code",
   "execution_count": 23,
   "metadata": {
    "collapsed": false
   },
   "outputs": [
    {
     "name": "stderr",
     "output_type": "stream",
     "text": [
      "Warning message:\n",
      "“More than one observation per cell, aggregating the data using mean (i.e, fun.aggregate = mean)!”Contrasts set to contr.sum for the following variables: feasibility, site_x\n"
     ]
    },
    {
     "name": "stdout",
     "output_type": "stream",
     "text": [
      "Anova Table (Type 3 tests)\n",
      "\n",
      "Response: rt_num\n",
      "                            Effect     df      MSE         F p.value\n",
      "1                      feasibility 1, 286 59264.28    5.54 *     .02\n",
      "2                           site_x 3, 286 59264.28      0.42     .74\n",
      "3               feasibility:site_x 3, 286 59264.28      1.41     .24\n",
      "4                            block 1, 286  3540.32      0.72     .40\n",
      "5                feasibility:block 1, 286  3540.32      0.76     .38\n",
      "6                     site_x:block 3, 286  3540.32      0.66     .58\n",
      "7         feasibility:site_x:block 3, 286  3540.32      0.18     .91\n",
      "8                           length 1, 286  1566.47 43.86 ***  <.0001\n",
      "9               feasibility:length 1, 286  1566.47      0.01     .92\n",
      "10                   site_x:length 3, 286  1566.47      0.32     .81\n",
      "11       feasibility:site_x:length 3, 286  1566.47      0.46     .71\n",
      "12                    block:length 1, 286   794.17  10.68 **    .001\n",
      "13        feasibility:block:length 1, 286   794.17      0.08     .78\n",
      "14             site_x:block:length 3, 286   794.17      0.88     .45\n",
      "15 feasibility:site_x:block:length 3, 286   794.17      0.05     .99\n"
     ]
    }
   ],
   "source": [
    "rt_anova <- aov_ez(\"subj_idx\",\"rt_num\",\n",
    "df_trial_merged,between=c(\"feasibility\", \"site_x\"),\n",
    "within=c(\"block\",\"length\"),anova_table=list(correction=\"none\", es = \"none\"))\n",
    "print(rt_anova)"
   ]
  },
  {
   "cell_type": "markdown",
   "metadata": {},
   "source": [
    "**Accuracy**"
   ]
  },
  {
   "cell_type": "code",
   "execution_count": 24,
   "metadata": {
    "collapsed": false
   },
   "outputs": [
    {
     "name": "stderr",
     "output_type": "stream",
     "text": [
      "Warning message:\n",
      "“More than one observation per cell, aggregating the data using mean (i.e, fun.aggregate = mean)!”Contrasts set to contr.sum for the following variables: feasibility, site_x\n"
     ]
    },
    {
     "name": "stdout",
     "output_type": "stream",
     "text": [
      "Anova Table (Type 3 tests)\n",
      "\n",
      "Response: response_num\n",
      "                            Effect     df  MSE         F p.value\n",
      "1                      feasibility 1, 286 0.03    4.48 *     .04\n",
      "2                           site_x 3, 286 0.03      1.43     .23\n",
      "3               feasibility:site_x 3, 286 0.03      0.04     .99\n",
      "4                            block 1, 286 0.00      1.40     .24\n",
      "5                feasibility:block 1, 286 0.00      0.26     .61\n",
      "6                     site_x:block 3, 286 0.00      0.10     .96\n",
      "7         feasibility:site_x:block 3, 286 0.00      0.80     .49\n",
      "8                           length 1, 286 0.01 49.56 ***  <.0001\n",
      "9               feasibility:length 1, 286 0.01      0.00     .98\n",
      "10                   site_x:length 3, 286 0.01      1.51     .21\n",
      "11       feasibility:site_x:length 3, 286 0.01      0.65     .59\n",
      "12                    block:length 1, 286 0.01      1.17     .28\n",
      "13        feasibility:block:length 1, 286 0.01      0.12     .73\n",
      "14             site_x:block:length 3, 286 0.01      0.43     .73\n",
      "15 feasibility:site_x:block:length 3, 286 0.01      1.01     .39\n"
     ]
    }
   ],
   "source": [
    "acc_anova <- aov_ez(\"subj_idx\",\"response_num\",df_trial_merged,\n",
    "between=c(\"feasibility\", \"site_x\"),within=c(\"block\",\"length\"),\n",
    "anova_table=list(correction=\"none\", es = \"none\"))\n",
    "print(acc_anova)"
   ]
  },
  {
   "cell_type": "markdown",
   "metadata": {},
   "source": [
    "**Response bias ANOVA**"
   ]
  },
  {
   "cell_type": "code",
   "execution_count": 28,
   "metadata": {
    "collapsed": false
   },
   "outputs": [
    {
     "name": "stderr",
     "output_type": "stream",
     "text": [
      "Contrasts set to contr.sum for the following variables: feasibility, site\n"
     ]
    },
    {
     "name": "stdout",
     "output_type": "stream",
     "text": [
      "Anova Table (Type 3 tests)\n",
      "\n",
      "Response: RB_adjst_all_Blk2_minus_Blk1\n",
      "            Effect     df  MSE    F p.value\n",
      "1      feasibility 1, 286 0.04 0.31     .58\n",
      "2             site 3, 286 0.04 0.56     .64\n",
      "3 feasibility:site 3, 286 0.04 1.25     .29\n"
     ]
    }
   ],
   "source": [
    "resp_bias_anova <- aov_ez(\"ProjectSpecificID\",\"RB_adjst_all_Blk2_minus_Blk1\",\n",
    "df_first_sess,between=c(\"feasibility\", \"site\"),\n",
    "anova_table=list(correction=\"none\", es = \"none\"))\n",
    "print(resp_bias_anova)"
   ]
  },
  {
   "cell_type": "markdown",
   "metadata": {},
   "source": [
    "**Response bias ANCOVA**"
   ]
  },
  {
   "cell_type": "code",
   "execution_count": 31,
   "metadata": {
    "collapsed": false
   },
   "outputs": [
    {
     "name": "stderr",
     "output_type": "stream",
     "text": [
      "Warning message:\n",
      "“Numerical variables NOT centered on 0 (i.e., likely bogus results): dis_adjst_all1_Total”Contrasts set to contr.sum for the following variables: site, feasibility\n"
     ]
    },
    {
     "name": "stdout",
     "output_type": "stream",
     "text": [
      "Anova Table (Type 3 tests)\n",
      "\n",
      "Response: RB_adjst_all_Blk2_minus_Blk1\n",
      "                Effect     df  MSE    F p.value\n",
      "1                 site 3, 285 0.04 0.57     .63\n",
      "2          feasibility 1, 285 0.04 0.27     .60\n",
      "3 dis_adjst_all1_Total 1, 285 0.04 0.08     .78\n",
      "4     site:feasibility 3, 285 0.04 1.25     .29\n"
     ]
    }
   ],
   "source": [
    "resp_bias_ancova <- aov_ez(\"ProjectSpecificID\",\"RB_adjst_all_Blk2_minus_Blk1\",\n",
    "df_first_sess,between= c(\"site\",\"feasibility\"),covariate = \"dis_adjst_all1_Total\",\n",
    "factorize = FALSE,anova_table=list(correction=\"none\", es = \"none\"))\n",
    "print(resp_bias_ancova)"
   ]
  },
  {
   "cell_type": "markdown",
   "metadata": {},
   "source": [
    "**Discriminability ANOVA**"
   ]
  },
  {
   "cell_type": "code",
   "execution_count": 33,
   "metadata": {
    "collapsed": false
   },
   "outputs": [
    {
     "name": "stderr",
     "output_type": "stream",
     "text": [
      "Contrasts set to contr.sum for the following variables: feasibility, site\n"
     ]
    },
    {
     "name": "stdout",
     "output_type": "stream",
     "text": [
      "Anova Table (Type 3 tests)\n",
      "\n",
      "Response: dis_adjst_all1_Total\n",
      "            Effect     df  MSE      F p.value\n",
      "1      feasibility 1, 286 0.06 3.66 +     .06\n",
      "2             site 3, 286 0.06   1.58     .19\n",
      "3 feasibility:site 3, 286 0.06   0.09     .97\n"
     ]
    }
   ],
   "source": [
    "disc_anova <- aov_ez(\"ProjectSpecificID\",\"dis_adjst_all1_Total\",\n",
    "df_first_sess,between=c(\"feasibility\", \"site\"),\n",
    "anova_table=list(correction=\"none\", es = \"none\"))\n",
    "print (disc_anova)"
   ]
  },
  {
   "cell_type": "code",
   "execution_count": null,
   "metadata": {
    "collapsed": true
   },
   "outputs": [],
   "source": []
  }
 ],
 "metadata": {
  "anaconda-cloud": {},
  "kernelspec": {
   "display_name": "R",
   "language": "R",
   "name": "ir"
  },
  "language_info": {
   "codemirror_mode": "r",
   "file_extension": ".r",
   "mimetype": "text/x-r-source",
   "name": "R",
   "pygments_lexer": "r",
   "version": "3.3.2"
  }
 },
 "nbformat": 4,
 "nbformat_minor": 1
}
